{
 "cells": [
  {
   "cell_type": "markdown",
   "id": "2aa0f022",
   "metadata": {},
   "source": [
    "All the imports needed for the running of the script, Updated as the experemnt goes "
   ]
  },
  {
   "cell_type": "code",
   "execution_count": 61,
   "id": "1886d3cc",
   "metadata": {},
   "outputs": [],
   "source": [
    "import pandas as pd \n",
    "import numpy as np \n",
    "import os\n",
    "import re\n",
    "import seaborn as sns\n",
    "import matplotlib.pyplot as plt\n",
    "import warnings\n",
    "import os\n",
    "from datetime import datetime, timedelta\n",
    "from functools import reduce\n",
    "from sklearn.feature_extraction.text import TfidfVectorizer, CountVectorizer\n",
    "warnings.filterwarnings('ignore')\n",
    "import progressbar\n",
    "import tensorflow as ts\n",
    "from sklearn.model_selection import train_test_split\n",
    "from tensorflow.keras import layers,models\n",
    "from sklearn.metrics import confusion_matrix,accuracy_score\n",
    "from sklearn.linear_model import LogisticRegression\n",
    "from random import random\n",
    "from sklearn.ensemble import RandomForestClassifier as RFC\n",
    "from sklearn.tree import DecisionTreeClassifier as DTC\n",
    "from sklearn.naive_bayes import GaussianNB as GNB\n",
    "from sklearn.neighbors import KNeighborsClassifier as KNN\n",
    "from sklearn.svm import SVC\n",
    "from sklearn.linear_model import LogisticRegression as LG\n",
    "from sklearn.preprocessing import StandardScaler\n",
    "from sklearn.linear_model import LinearRegression"
   ]
  },
  {
   "cell_type": "markdown",
   "id": "fd5a3079",
   "metadata": {},
   "source": [
    "Data preprocessing. This converts a timestamp in the format %M:%S%S.%f%f Where \n",
    "- %M is Minutes with no padded zeros \n",
    "- %S is Seconds with zeros padded to the left\n",
    "- %f is Milliseconds with no padded zeros \n",
    "\n",
    "To milliseconds. "
   ]
  },
  {
   "cell_type": "code",
   "execution_count": 2,
   "id": "c9a721e5",
   "metadata": {},
   "outputs": [],
   "source": [
    "def memory_gbts(unit) : \n",
    "    local_unit = 0.0\n",
    "    if unit.endswith(\"K\"):\n",
    "        local_unit = float(unit[:-1])/1e9\n",
    "    elif unit.endswith(\"M\"): \n",
    "        local_unit = float(unit[:-1])/1e6\n",
    "    elif unit.endswith(\"G\") : \n",
    "        local_unit = float(unit[:-1])/1e3\n",
    "    else : \n",
    "        local_unit = float(unit)/1e12\n",
    "    return local_unit"
   ]
  },
  {
   "cell_type": "code",
   "execution_count": 3,
   "id": "0559af3e",
   "metadata": {},
   "outputs": [],
   "source": [
    "def memory_converter(memory) :\n",
    "    memory_over_terabyte = []\n",
    "    for unit in memory :\n",
    "        local_unit = memory_gbts(unit)\n",
    "            #print(unit)\n",
    "        memory_over_terabyte.append(local_unit)\n",
    "    return memory_over_terabyte"
   ]
  },
  {
   "cell_type": "code",
   "execution_count": 4,
   "id": "06ddf961",
   "metadata": {},
   "outputs": [],
   "source": [
    "def time_converter(timestamp):\n",
    "    broken_time = timestamp.split(\".\")\n",
    "    milliseconds = float(\"0.\" + broken_time[-1]) * 1000\n",
    "    borken_farther = broken_time[0].split(\":\")\n",
    "    seconds = int(borken_farther[-1])\n",
    "    minutes = int(borken_farther[0])\n",
    "    total_seconds = seconds + minutes*60\n",
    "    total_milliseconds = milliseconds + total_seconds*1000\n",
    "    return total_milliseconds"
   ]
  },
  {
   "cell_type": "markdown",
   "id": "dacfe71c",
   "metadata": {},
   "source": [
    "This function extracts the time at which the file was logged from the file name and returns it as a timestamp "
   ]
  },
  {
   "cell_type": "code",
   "execution_count": 5,
   "id": "39066aee",
   "metadata": {},
   "outputs": [],
   "source": [
    "def get_timestamp(filename) : \n",
    "    timestamp = filename[8:-4].replace('_',':')\n",
    "    return timestamp"
   ]
  },
  {
   "cell_type": "markdown",
   "id": "366fb70c",
   "metadata": {},
   "source": [
    "The following cell defines the column names for the read text files for when they are converted to a data frame"
   ]
  },
  {
   "cell_type": "code",
   "execution_count": 6,
   "id": "445554ec",
   "metadata": {},
   "outputs": [],
   "source": [
    "column_names = [\"Process ID\",\"User\",\"PR\",\"NI\",\"VIRT\",\"RES\",\"SHR\",\"S\",\"[%CPU]\",\"[%MEM]\",\"TIME+\",\"Args\",\"Timestamp\",\"Benign\"]"
   ]
  },
  {
   "cell_type": "markdown",
   "id": "5bb46e4e",
   "metadata": {},
   "source": [
    "This function will go through all files in any given directory and count how many are there. This is only used for updating the progressbar and is not nessesary for understanding the training process"
   ]
  },
  {
   "cell_type": "code",
   "execution_count": 7,
   "id": "ccb5b1d2",
   "metadata": {},
   "outputs": [],
   "source": [
    "def get_files_count(root,counter = 0):\n",
    "    counter += 1\n",
    "    for root, dirs, files in os.walk(root, topdown=True):\n",
    "        for name in files:\n",
    "            if name.endswith(\".txt\") : \n",
    "                counter += 1\n",
    "        for name in dirs:\n",
    "            new_path = os.path.join(root, name)\n",
    "            counter = get_files_count(new_path,counter)\n",
    "    return counter "
   ]
  },
  {
   "cell_type": "code",
   "execution_count": 8,
   "id": "d2e0c5ea",
   "metadata": {},
   "outputs": [],
   "source": [
    "file_count = get_files_count(\".\")\n",
    "counter = 0\n",
    "bar = progressbar.ProgressBar(maxval=100, \\\n",
    "widgets=[progressbar.Bar('=', '[', ']'), ' ', progressbar.Percentage()])"
   ]
  },
  {
   "cell_type": "code",
   "execution_count": 9,
   "id": "d9af6e00",
   "metadata": {},
   "outputs": [],
   "source": [
    "def progressbar_ignite():\n",
    "    global counter,bar\n",
    "    counter = 0\n",
    "    bar.start()"
   ]
  },
  {
   "cell_type": "code",
   "execution_count": 10,
   "id": "b9031269",
   "metadata": {},
   "outputs": [],
   "source": [
    "def progressbar_stop():\n",
    "    global bar\n",
    "    bar.update(100)\n",
    "    bar.finish()"
   ]
  },
  {
   "cell_type": "code",
   "execution_count": 11,
   "id": "af61a877",
   "metadata": {},
   "outputs": [],
   "source": [
    "def update_progressbar(counter) : \n",
    "    global file_count,bar\n",
    "    percent_done = counter/float(file_count)\n",
    "    percent = int(percent_done*100)\n",
    "    bar.update(percent)"
   ]
  },
  {
   "cell_type": "markdown",
   "id": "4de5dc77",
   "metadata": {},
   "source": [
    "Few cells for nicely presented output"
   ]
  },
  {
   "cell_type": "code",
   "execution_count": 12,
   "id": "11342143",
   "metadata": {},
   "outputs": [],
   "source": [
    "def nice_graph_init(ylabel = \"process count\", xlabel = \"Probability\", title = r\"Likelyhood of a process being benign\",figsize = (8,6)): \n",
    "    plt.style.use('dark_background')\n",
    "    figure = plt.figure(figsize = figsize)\n",
    "    figure.subplots_adjust(bottom = 0.22)\n",
    "    ax = figure.add_subplot(111)\n",
    "    ax.spines[\"top\"].set_visible(False)\n",
    "    ax.spines[\"right\"].set_visible(False)\n",
    "    ax.set_title(title, fontsize = 16, fontfamily = \"monospace\")\n",
    "    ax.set_ylabel(ylabel, fontsize = 14, fontfamily = \"monospace\")\n",
    "    ax.set_xlabel(xlabel, fontsize = 14, fontfamily = \"monospace\")\n",
    "    ax.minorticks_on()\n",
    "    return ax,figure"
   ]
  },
  {
   "cell_type": "code",
   "execution_count": 13,
   "id": "caee605c",
   "metadata": {},
   "outputs": [],
   "source": [
    "def nice_graph_finish(figure,ax,filename = \"plot.png\"):\n",
    "    ax.xaxis.set_tick_params(length = 5, width = 1)\n",
    "    ax.yaxis.set_tick_params(length = 5, width = 1)\n",
    "    plt.savefig(filename, dpi=300, bbox_inches='tight')\n",
    "    plt.show()"
   ]
  },
  {
   "cell_type": "markdown",
   "id": "2ac17314",
   "metadata": {},
   "source": [
    "This cell makes sure the data is in the correct format"
   ]
  },
  {
   "cell_type": "code",
   "execution_count": 14,
   "id": "8eb1b86a",
   "metadata": {},
   "outputs": [],
   "source": [
    "def turn_to_X(df) : \n",
    "    X = df.values\n",
    "    X = np.asarray(X).astype('float32')\n",
    "    return X"
   ]
  },
  {
   "cell_type": "code",
   "execution_count": 15,
   "id": "f2cda87f",
   "metadata": {},
   "outputs": [],
   "source": [
    "def list_to_array(data):\n",
    "    df = pd.DataFrame(data,columns = column_names)\n",
    "    X = df.drop([\"Process ID\",\"User\",\"PR\",\"NI\",\"S\",\"Args\",\"Timestamp\",\"Benign\"],axis =1,inplace=False)\n",
    "    X = turn_to_X(X)\n",
    "    Y = df[\"Benign\"].values\n",
    "    Y = np.reshape(Y, (len(Y),1))\n",
    "    return X,Y"
   ]
  },
  {
   "cell_type": "code",
   "execution_count": 16,
   "id": "1d67e197",
   "metadata": {},
   "outputs": [],
   "source": [
    "def y_edit(y,N,tracker):\n",
    "    prev_i = 0\n",
    "    itters = 0\n",
    "    ys = np.zeros((y.shape[0] - N*len(tracker),1))\n",
    "    for num in tracker :\n",
    "        ys[prev_i - N*itters : num - N*(itters+1)] = y[prev_i : num - N]\n",
    "        itters += 1\n",
    "        prev_i = num\n",
    "    return ys"
   ]
  },
  {
   "cell_type": "code",
   "execution_count": 17,
   "id": "86f7823a",
   "metadata": {},
   "outputs": [],
   "source": [
    "def rows_to_cells(rows, N,tracker) : \n",
    "    rows = np.array(rows)\n",
    "    cells = np.zeros((rows.shape[0] - N*len(tracker),N,6))\n",
    "    prev_i = 0\n",
    "    itter = 0\n",
    "    for num in tracker :\n",
    "        for i in range(prev_i,num - N) :\n",
    "            cells[i - N*itter,:,:] = rows[i:i+N,:]\n",
    "        prev_i = num\n",
    "        itter += 1\n",
    "    return cells"
   ]
  },
  {
   "cell_type": "code",
   "execution_count": 18,
   "id": "acf1218b",
   "metadata": {},
   "outputs": [],
   "source": [
    "def concatinate(full,new) : \n",
    "    return np.concatenate((full,new), axis = 0)"
   ]
  },
  {
   "cell_type": "code",
   "execution_count": 19,
   "id": "86228f8a",
   "metadata": {},
   "outputs": [],
   "source": [
    "def get_summary_output(filename) : \n",
    "    # Reads a text file with columns seperated by tabs and stores it in a data frame object\n",
    "    filein = open(filename, \"r\")\n",
    "    # Stores the data contained in the data frame object in an array \n",
    "    lines = filein.readlines()\n",
    "    lines = lines[1:6]\n",
    "    \"\"\"\n",
    "    This is how these lines look like \n",
    "    ['Mem:', '7.3G', 'total,', '6.5G', 'used,', '780M', 'free,', '190M', 'buffers']\n",
    "    ['Swap:', '2.0G', 'total,', '8.7M', 'used,', '2.0G', 'free,', '3.7G', 'cached']\n",
    "    ['800%cpu', '62%user', '0%nice', '69%sys', '669%idle', '0%iow', '0%irq', '0%sirq', '0%host']\n",
    "    \"\"\"\n",
    "    metrics = {}\n",
    "    metric_list = []\n",
    "    \n",
    "    metric_list.append(memory_gbts((\" \".join(lines[0].split())).split(\" \")[3]))\n",
    "    metrics[\"UsedMem\"] = metric_list[-1]\n",
    "    metric_list.append(memory_gbts((\" \".join(lines[1].split())).split(\" \")[3]))\n",
    "    metrics[\"UsedSwp\"] =  metric_list[-1]\n",
    "    cpu_tokens = \" \".join(lines[2].split()).split(\" \")\n",
    "    metric_list.append(float(cpu_tokens[1].split(\"%\")[0]))\n",
    "    metrics[\"CPUuser\"] = metric_list[-1]\n",
    "    metric_list.append(float(cpu_tokens[3].split(\"%\")[0]))\n",
    "    metrics[\"CPUsyst\"] = metric_list[-1]\n",
    "    \n",
    "    return metric_list"
   ]
  },
  {
   "cell_type": "code",
   "execution_count": 31,
   "id": "441d0336",
   "metadata": {},
   "outputs": [],
   "source": [
    "def get_summary_input(df) : \n",
    "    \n",
    "    kernal_calls = df[\"Args\"].values\n",
    "    users = np.unique(df[\"User\"].values)\n",
    "    process_ID = np.max(df[\"Process ID\"].values)\n",
    "    time = df[\"TIME+\"].values\n",
    "    all_items = []\n",
    "    APIs = {}\n",
    "    statistics = np.zeros((1,15))\n",
    "    for item in kernal_calls : \n",
    "        tokens = item.split(\" \")\n",
    "        for token in tokens : \n",
    "            if(token.startswith(\"[\")) : \n",
    "                token = token[1:]\n",
    "            if(token.endswith(\"]\")) : \n",
    "                token = token[:-1]\n",
    "            if len(token) > 4 : \n",
    "                token = token[:4]\n",
    "            all_items.append(token)\n",
    "    distinct = np.unique(all_items)\n",
    "    api_counter = np.zeros_like(distinct, dtype = float)\n",
    "    for key in distinct : \n",
    "        APIs[key] = 0\n",
    "    for item in kernal_calls : \n",
    "        tokens = item.split(\" \")\n",
    "        for token in tokens : \n",
    "            if(token.startswith(\"[\")) : \n",
    "                token = token[1:]\n",
    "            if(token.endswith(\"]\")) : \n",
    "                token = token[:-1]\n",
    "            if len(token) > 4 : \n",
    "                token = token[:4]\n",
    "            APIs[token] += 1\n",
    "    i = 0\n",
    "    for key in distinct : \n",
    "        api_counter[i] = APIs[key]\n",
    "        i += 1\n",
    "    statistics[0,0] = np.sum(api_counter)\n",
    "    statistics[0,1] = users.shape[0]\n",
    "    statistics[0,2] = api_counter.mean()\n",
    "    statistics[0,3] = np.median(api_counter)\n",
    "    statistics[0,4] = api_counter.std()\n",
    "    top_vals = api_counter.argsort()[-4:][::-1]\n",
    "    statistics[0,5] = top_vals[0]\n",
    "    statistics[0,6] = top_vals[1]\n",
    "    statistics[0,7] = top_vals[2]\n",
    "    statistics[0,8] = top_vals[3]\n",
    "    statistics[0,10] = process_ID\n",
    "    statistics[0,9] = len(distinct)\n",
    "    statistics[0,11] = np.max(time)\n",
    "    statistics[0,12] = np.mean(time)\n",
    "    statistics[0,13] = np.median(time)\n",
    "    statistics[0,14] = np.std(time)\n",
    "    return statistics"
   ]
  },
  {
   "cell_type": "code",
   "execution_count": 20,
   "id": "74c27952",
   "metadata": {},
   "outputs": [],
   "source": [
    "def reader(filename,safe_filename,all_data, benign = 1) : \n",
    "    # Reads a text file with columns seperated by tabs and stores it in a data frame object\n",
    "    df = pd.read_csv(filename, delimiter = \"\\t\", skiprows = [0,1,2,3,4,5,-1])\n",
    "    # Stores the data contained in the data frame object in an array \n",
    "    data = df.iloc[:,0].values\n",
    "    i = 0\n",
    "    # Loop through all the data points \n",
    "    for d in data[:-1] :\n",
    "        try :\n",
    "            row = []\n",
    "            # The variable d at this point is a whole line, with some awckward spacing between the different \n",
    "            # variables, so here all spaces are removed by the split method, then are rejoined with a single \n",
    "            # space beteween them by the use of the join method\n",
    "            d = \" \".join(d.split())\n",
    "            # Storing all the data up to the 12th element in row, the 12th and beyond element needs further processing \n",
    "            row = d.split(\" \")[:11]\n",
    "            # Storing all the elements including and beyond the 12th element. They are saved all as a single variable\n",
    "            # this variable is the API caller.\n",
    "            APIs = d.split(\" \")[11:]\n",
    "            row.append(\" \".join(APIs))\n",
    "            # converting the PID (process ID) column to Integer\n",
    "            row[0] = int(row[0])\n",
    "            # Convert the memory information to numarical values \n",
    "            row[4:7] = memory_converter(row[4:7])\n",
    "            row[9] = float(row[9])\n",
    "            row[8] = float(row[8])\n",
    "            # Convert timestamps into millisecond values \n",
    "            row[10] = time_converter(row[10])\n",
    "            # Collect the sampling time from the filename \n",
    "            row.append(get_timestamp(safe_filename))\n",
    "            # Indicate whether this row corrospond to a benign or a melign run \n",
    "            row.append(benign)\n",
    "            # The row is done being processed and is stored\n",
    "            if(np.sum(row[4:7]) > 0 ) : \n",
    "                all_data.append(row)\n",
    "            i += 1\n",
    "        # For lines which might contain contaminated or corrupt data or data in different format\n",
    "        except ValueError : \n",
    "            #print(safe_filename, \" In the line \" , i)\n",
    "            #print(d)\n",
    "            continue\n",
    "    return all_data"
   ]
  },
  {
   "cell_type": "code",
   "execution_count": 21,
   "id": "0257fe89",
   "metadata": {},
   "outputs": [],
   "source": [
    "def list_to_df(data):\n",
    "    df = pd.DataFrame(data,columns = column_names)\n",
    "    X = df.drop([\"Benign\"],axis =1,inplace=False)\n",
    "    return X"
   ]
  },
  {
   "cell_type": "markdown",
   "id": "53dd0b63",
   "metadata": {},
   "source": [
    "Okay so this function will produce summary statistics about the top file being processed. This description will\n",
    "keep being updated as we go, Currently the summary stats we include are : \n",
    "- number of different kernal API calls \n",
    "- number of calling users \n",
    "- number of calls performed by the most calling API \n",
    "- number of calls performed by the second most calling API\n",
    "- number of calls performed by the third mot calling API \n",
    "- number of calls performed by the fourth most calling API\n",
    "- the ammount of memory and cpu occupied by each of those \n",
    "- the total number of calls \n",
    "- number of calls that doesn't have any cpu or memory usage to it\n",
    "- the average time since the start of each of those processes \n",
    "- The mean API count \n",
    "- The std of the API calls"
   ]
  },
  {
   "cell_type": "code",
   "execution_count": 28,
   "id": "2fb5b1f0",
   "metadata": {},
   "outputs": [],
   "source": [
    "N_features = 15\n"
   ]
  },
  {
   "cell_type": "code",
   "execution_count": 22,
   "id": "df5d8fe1",
   "metadata": {},
   "outputs": [],
   "source": [
    "def process_file(filename,safe_filename,all_data, benign = 1) :\n",
    "    all_data = reader(filename, safe_filename , all_data , benign)\n",
    "    x = get_summary_input(list_to_df(all_data))\n",
    "    y = get_summary_output(filename)\n",
    "    return x,y\n"
   ]
  },
  {
   "cell_type": "code",
   "execution_count": 23,
   "id": "7de352cf",
   "metadata": {},
   "outputs": [],
   "source": [
    "def evil_processing(root,benign):\n",
    "    global counter\n",
    "    # Updating the progressbar everytime this function is called, this is a recursive function so it will be called\n",
    "    # Multiple times \n",
    "    update_progressbar(counter)\n",
    "    # Using the walk method which returns the root of the directory we are accessing, the child directories and \n",
    "    # the child files. Those are stored in root, dirs and files respectively\n",
    "    for root, dirs, files in os.walk(root, topdown=True):\n",
    "        # Looping through all the child files \n",
    "        for name in files:\n",
    "            # Checking if they are text files, if so, then we are going to read them and store the values they have\n",
    "            if name.endswith(\".txt\") : \n",
    "                try :\n",
    "                    if(random() > 0.0) : \n",
    "                        file_path = os.path.join(root, name)\n",
    "                        # Reading the file's contents and storing it in the list\n",
    "                        x,y = process_file(file_path,name,[],benign=benign)\n",
    "                        evil_inset(x,y)\n",
    "                        # We read one more file :) . (for the progressbar) \n",
    "                    counter += 1\n",
    "                except ValueError : \n",
    "                    print(\"The current dimensions of Y global is : \" , global_Y.shape)\n",
    "                    print(\"The current dimensions of Y locaal is : \" , loc_y.shape)\n",
    "        # For each of the child directories we will check         \n",
    "        for name in dirs:\n",
    "            # If the directory name is Benign then all the following directories and files will be Benign files \n",
    "            # So we update the benign variable to 1 in the recursive call \n",
    "            new_path = os.path.join(root, name)\n",
    "            if name == \"Benign\" :\n",
    "                continue\n",
    "            # If the directory name is Malign then all the directories we will acess next and files will represent \n",
    "            # Malign data, so the benign variable is updated to 0. \n",
    "            elif name == \"Malign\" :     \n",
    "                evil_processing(new_path,0) \n",
    "            # If its neither, then this means we are accessing a folder within those previous two, it will contain \n",
    "            # data of the kind its parent directory have passed to it, 0 for Malign and 1 for benign \n",
    "            else : \n",
    "                evil_processing(new_path,benign)"
   ]
  },
  {
   "cell_type": "code",
   "execution_count": 24,
   "id": "6abba17a",
   "metadata": {},
   "outputs": [],
   "source": [
    "def good_processing(root,benign):\n",
    "    global counter\n",
    "    # Updating the progressbar everytime this function is called, this is a recursive function so it will be called\n",
    "    # Multiple times \n",
    "    update_progressbar(counter)\n",
    "    # Using the walk method which returns the root of the directory we are accessing, the child directories and \n",
    "    # the child files. Those are stored in root, dirs and files respectively\n",
    "    for root, dirs, files in os.walk(root, topdown=True):\n",
    "        # Looping through all the child files \n",
    "        for name in files:\n",
    "            # Checking if they are text files, if so, then we are going to read them and store the values they have\n",
    "            if name.endswith(\".txt\") : \n",
    "                try :\n",
    "                    if(random() > 0.0) : \n",
    "                        file_path = os.path.join(root, name)\n",
    "                        # Reading the file's contents and storing it in the list\n",
    "                        x,y = process_file(file_path,name,[],benign=benign)\n",
    "                        inset(x,y)\n",
    "                        # We read one more file :) . (for the progressbar) \n",
    "                    counter += 1\n",
    "                except ValueError : \n",
    "                    print(\"The current dimensions of Y global is : \" , global_Y.shape)\n",
    "                    print(\"The current dimensions of Y locaal is : \" , loc_y.shape)\n",
    "        # For each of the child directories we will check         \n",
    "        for name in dirs:\n",
    "            # If the directory name is Benign then all the following directories and files will be Benign files \n",
    "            # So we update the benign variable to 1 in the recursive call \n",
    "            new_path = os.path.join(root, name)\n",
    "            if name == \"Benign\" :\n",
    "                good_processing(new_path,1)\n",
    "            # If the directory name is Malign then all the directories we will acess next and files will represent \n",
    "            # Malign data, so the benign variable is updated to 0. \n",
    "            elif name == \"Malign\" :     \n",
    "                continue \n",
    "            # If its neither, then this means we are accessing a folder within those previous two, it will contain \n",
    "            # data of the kind its parent directory have passed to it, 0 for Malign and 1 for benign \n",
    "            else : \n",
    "                good_processing(new_path,benign)"
   ]
  },
  {
   "cell_type": "code",
   "execution_count": 25,
   "id": "f863647c",
   "metadata": {},
   "outputs": [],
   "source": [
    "def inset(x,y) : \n",
    "    global Good_X,Good_Y,filled\n",
    "    Good_X[filled, : ] = x\n",
    "    Good_Y[filled, : ] = y\n",
    "    filled += 1"
   ]
  },
  {
   "cell_type": "code",
   "execution_count": 26,
   "id": "5b9d565b",
   "metadata": {},
   "outputs": [],
   "source": [
    "def evil_inset(x,y) : \n",
    "    global Evil_X,Evil_Y,Evil_filled\n",
    "    Evil_X[Evil_filled, : ] = x\n",
    "    Evil_Y[Evil_filled, : ] = y\n",
    "    Evil_filled += 1"
   ]
  },
  {
   "cell_type": "code",
   "execution_count": 33,
   "id": "ff78879f",
   "metadata": {},
   "outputs": [],
   "source": [
    "def score_metric(metric,y,ypred) : \n",
    "    if metric == \"MSE\" : \n",
    "        return np.sum((y-ypred)**2, axis = 1)/y.shape[0]\n",
    "    if metric == \"MAE\" : \n",
    "        return np.sum(np.abs(y-ypred), axis = 1)/y.shape[0]"
   ]
  },
  {
   "cell_type": "code",
   "execution_count": 37,
   "id": "185c9163",
   "metadata": {},
   "outputs": [],
   "source": [
    "def display_performance(scores) : \n",
    "    for key in scores.keys() : \n",
    "        print(\"The Algorithim \", key, \" Performed with \", scores[key]*100, \" Accuracy\")"
   ]
  },
  {
   "cell_type": "code",
   "execution_count": 38,
   "id": "338996f6",
   "metadata": {},
   "outputs": [],
   "source": [
    "def lg_only(x_train,x_test,y_train,y_test) : \n",
    "    ss = StandardScaler()\n",
    "    x_train = ss.fit_transform(x_train)\n",
    "    x_test = ss.transform(x_test)\n",
    "    lg = LG()\n",
    "    lg.fit(x_train,y_train)\n",
    "    y_pred = lg.predict_proba(x_test)\n",
    "    return y_pred"
   ]
  },
  {
   "cell_type": "code",
   "execution_count": 39,
   "id": "da3cea75",
   "metadata": {},
   "outputs": [],
   "source": [
    "def svm_only(x_train,x_test,y_train,y_test) : \n",
    "    ss = StandardScaler()\n",
    "    x_train = ss.fit_transform(x_train)\n",
    "    x_test = ss.transform(x_test)\n",
    "    svm = SVC()\n",
    "    svm.fit(x_train,y_train)\n",
    "    y_pred = svm.predict(x_test)\n",
    "    return y_pred"
   ]
  },
  {
   "cell_type": "code",
   "execution_count": 40,
   "id": "21f51125",
   "metadata": {},
   "outputs": [],
   "source": [
    "def running_classical_ML(x_train,x_test,y_train,y_test) : \n",
    "    ss = StandardScaler()\n",
    "    x_train = ss.fit_transform(x_train)\n",
    "    x_test = ss.transform(x_test)\n",
    "    scores = {}\n",
    "    score = 0\n",
    "    for i in range(10,15) : \n",
    "        knn = KNN(n_neighbors = i)\n",
    "        knn.fit(x_train,y_train)\n",
    "        y_pred = knn.predict(x_test)\n",
    "        if accuracy_score(y_pred,y_test) > score : \n",
    "            score = accuracy_score(y_pred,y_test)\n",
    "    scores[\"KNN\"] = score \n",
    "    score = 0\n",
    "    svm = SVC()\n",
    "    svm.fit(x_train,y_train)\n",
    "    y_pred = svm.predict(x_test)\n",
    "    print(confusion_matrix(y_pred,y_test))\n",
    "    scores[\"SVM\"] = accuracy_score(y_pred,y_test) \n",
    "    nb = GNB()\n",
    "    nb.fit(x_train,y_train)\n",
    "    y_pred = nb.predict(x_test)\n",
    "    print(confusion_matrix(y_pred,y_test))\n",
    "    scores[\"GNB\"] = accuracy_score(y_pred,y_test) \n",
    "    dtc = DTC()\n",
    "    dtc.fit(x_train,y_train)\n",
    "    y_pred = dtc.predict(x_test)\n",
    "    print(confusion_matrix(y_pred,y_test))\n",
    "    scores[\"DTC\"] = accuracy_score(y_pred,y_test) \n",
    "    rfc = RFC()\n",
    "    rfc.fit(x_train,y_train)\n",
    "    y_pred = rfc.predict(x_test)\n",
    "    print(confusion_matrix(y_pred,y_test))\n",
    "    scores[\"RFC\"] = accuracy_score(y_pred,y_test) \n",
    "    display_performance(scores)"
   ]
  },
  {
   "cell_type": "code",
   "execution_count": 41,
   "id": "2bbea8a6",
   "metadata": {},
   "outputs": [],
   "source": [
    "def time_extractor(filename) : \n",
    "    timestamp = filename[8:-4].replace('_',':')\n",
    "    dt = datetime.strptime(timestamp, \"%H:%M:%S\")\n",
    "    a_timedelta = dt - datetime(2000, 1, 1)\n",
    "    seconds = a_timedelta.total_seconds()\n",
    "    return seconds"
   ]
  },
  {
   "cell_type": "code",
   "execution_count": 48,
   "id": "4e3754ed",
   "metadata": {},
   "outputs": [],
   "source": [
    "def read_3_files_0(current_file,previous_file,holder,curr_data):\n",
    "    global N_files,N_features\n",
    "    s1 = time_extractor(current_file)\n",
    "    if previous_file == \"\" :\n",
    "        holder = np.zeros((N_files,N_features+4))\n",
    "        holder[0, : ] = curr_data\n",
    "        return holder,False\n",
    "    s2 = time_extractor(previous_file)\n",
    "    if s1 - s2 == 1 : \n",
    "        if np.sum(holder[-1,:]) != 0 : \n",
    "            holder[0:-1, :] = holder[1:,:]\n",
    "            holder[-1,:] = curr_data\n",
    "            return holder, True\n",
    "        else :\n",
    "            for i in range(N_files): \n",
    "                if np.sum(holder[i,:]) == 0 :\n",
    "                    holder[i,:] = curr_data\n",
    "                    return holder,False\n",
    "    else : \n",
    "        holder = np.zeros((N_files,N_features+4))\n",
    "        holder[0, : ] = curr_data\n",
    "        return holder,False  "
   ]
  },
  {
   "cell_type": "code",
   "execution_count": 49,
   "id": "b29f5e00",
   "metadata": {},
   "outputs": [],
   "source": [
    "def read_3_files_1(current_file,previous_file,holder,curr_data):\n",
    "    global N_files,N_features\n",
    "    s1 = time_extractor(current_file)\n",
    "    if previous_file == \"\" :\n",
    "        holder = np.zeros((N_features+4,N_files))\n",
    "        holder[:, 0 ] = curr_data.reshape(-1)\n",
    "        return holder,False\n",
    "    s2 = time_extractor(previous_file)\n",
    "    if s1 - s2 == 1 : \n",
    "        if np.sum(holder[:,-1]) != 0 : \n",
    "            holder[:,0:-1] = holder[:,1:]\n",
    "            holder[:,-1] = curr_data.reshape(-1)\n",
    "            return holder,True\n",
    "        else :\n",
    "            for i in range(N_files): \n",
    "                if np.sum(holder[:,i]) == 0 :\n",
    "                    holder[:,i] = curr_data.reshape(-1)\n",
    "                    return holder,False\n",
    "    else : \n",
    "        holder = np.zeros((N_features+4,N_files))\n",
    "        holder[:,0] = curr_data.reshape(-1)\n",
    "        return holder,False"
   ]
  },
  {
   "cell_type": "code",
   "execution_count": 50,
   "id": "d22a7548",
   "metadata": {},
   "outputs": [],
   "source": [
    "def multi_evil_inset(record) : \n",
    "    global multi_Evil_X,multi_Evil_filled\n",
    "    multi_Evil_X[multi_Evil_filled, : ,:] = record\n",
    "    multi_Evil_filled += 1"
   ]
  },
  {
   "cell_type": "code",
   "execution_count": 51,
   "id": "86052212",
   "metadata": {},
   "outputs": [],
   "source": [
    "def multi_good_inset(record) : \n",
    "    global multi_Good_X,multi_Good_filled\n",
    "    multi_Good_X[multi_Good_filled, : ,:] = record\n",
    "    multi_Good_filled += 1"
   ]
  },
  {
   "cell_type": "code",
   "execution_count": 68,
   "id": "d212496b",
   "metadata": {},
   "outputs": [],
   "source": [
    "def multi_evil_processing(root,benign,orientation = 0):\n",
    "    global counter,holder,N_files\n",
    "    # Updating the progressbar everytime this function is called, this is a recursive function so it will be called\n",
    "    # Multiple times \n",
    "    update_progressbar(counter)\n",
    "    # Using the walk method which returns the root of the directory we are accessing, the child directories and \n",
    "    # the child files. Those are stored in root, dirs and files respectively\n",
    "    for root, dirs, files in os.walk(root, topdown=True):\n",
    "        # Looping through all the child files \n",
    "        previous_name = \"\"\n",
    "        files.sort()\n",
    "        #print(files)\n",
    "        for name in files:\n",
    "            #print(len(name))\n",
    "            # Checking if they are text files, if so, then we are going to read them and store the values they have\n",
    "            if name.endswith(\".txt\") : \n",
    "                try :\n",
    "                    if(random() > 0.0) : \n",
    "                        file_path = os.path.join(root, name)\n",
    "                        # Reading the file's contents and storing it in the list\n",
    "                        x,y = process_file(file_path,name,[],benign=benign)\n",
    "                        y = np.reshape(y,(1,-1))\n",
    "                        record = np.hstack((x,y))\n",
    "                        if orientation == 0 : \n",
    "                            holder,flag = read_3_files_0(name,previous_name, holder, record)\n",
    "                        else : \n",
    "                            holder,flag = read_3_files_1(name,previous_name, holder, record)\n",
    "                        previous_name = name\n",
    "                        if flag :\n",
    "                            multi_evil_inset(holder)\n",
    "                        # We read one more file :) . (for the progressbar) \n",
    "                    counter += 1\n",
    "                except FileNotFound: \n",
    "                    print(\"The current dimensions of holder is : \" , holder)\n",
    "                    #print(\"The current dimensions of Y locaal is : \" , loc_y.shape)\n",
    "        # For each of the child directories we will check  \n",
    "            \n",
    "        for name in dirs:\n",
    "            # If the directory name is Benign then all the following directories and files will be Benign files \n",
    "            # So we update the benign variable to 1 in the recursive call \n",
    "            new_path = os.path.join(root, name)\n",
    "            if name == \"Benign\" :\n",
    "                continue\n",
    "            # If the directory name is Malign then all the directories we will acess next and files will represent \n",
    "            # Malign data, so the benign variable is updated to 0. \n",
    "            elif name == \"Malign\" :     \n",
    "                multi_evil_processing(new_path,0) \n",
    "            # If its neither, then this means we are accessing a folder within those previous two, it will contain \n",
    "            # data of the kind its parent directory have passed to it, 0 for Malign and 1 for benign \n",
    "            else : \n",
    "                multi_evil_processing(new_path,benign)"
   ]
  },
  {
   "cell_type": "code",
   "execution_count": 69,
   "id": "3d04a30f",
   "metadata": {},
   "outputs": [],
   "source": [
    "def multi_good_processing(root,benign,orientation = 0):\n",
    "    global counter,holder,N_files\n",
    "    # Updating the progressbar everytime this function is called, this is a recursive function so it will be called\n",
    "    # Multiple times \n",
    "    update_progressbar(counter)\n",
    "    # Using the walk method which returns the root of the directory we are accessing, the child directories and \n",
    "    # the child files. Those are stored in root, dirs and files respectively\n",
    "    for root, dirs, files in os.walk(root, topdown=True):\n",
    "        #print(files)\n",
    "        # Looping through all the child files \n",
    "        previous_name = \"\"\n",
    "        files.sort()\n",
    "        #print(files)\n",
    "        for name in files:\n",
    "            #print(len(name))\n",
    "            # Checking if they are text files, if so, then we are going to read them and store the values they have\n",
    "            if name.endswith(\".txt\") : \n",
    "                try :\n",
    "                    if(random() > 0.0) : \n",
    "                        file_path = os.path.join(root, name)\n",
    "                        # Reading the file's contents and storing it in the list\n",
    "                        x,y = process_file(file_path,name,[],benign=benign)\n",
    "                        y = np.reshape(y,(1,-1))\n",
    "                        record = np.hstack((x,y))\n",
    "                        if orientation == 0 :\n",
    "                            holder,flag = read_3_files_0(name,previous_name, holder, record)\n",
    "                        else :\n",
    "                            holder,flag = read_3_files_1(name,previous_name, holder, record)\n",
    "                        if flag :\n",
    "                            multi_good_inset(holder)\n",
    "                        # We read one more file :) . (for the progressbar) \n",
    "                    counter += 1\n",
    "                except FileNotFound: \n",
    "                    print(\"The current dimensions of holder is : \" , holder)\n",
    "                    #print(\"The current dimensions of Y locaal is : \" , loc_y.shape)\n",
    "        # For each of the child directories we will check  \n",
    "            previous_name = name\n",
    "        for name in dirs:\n",
    "            # If the directory name is Benign then all the following directories and files will be Benign files \n",
    "            # So we update the benign variable to 1 in the recursive call \n",
    "            new_path = os.path.join(root, name)\n",
    "            if name == \"Benign\" :\n",
    "                multi_good_processing(new_path,0) \n",
    "            # If the directory name is Malign then all the directories we will acess next and files will represent \n",
    "            # Malign data, so the benign variable is updated to 0. \n",
    "            elif name == \"Malign\" :     \n",
    "                continue \n",
    "            # If its neither, then this means we are accessing a folder within those previous two, it will contain \n",
    "            # data of the kind its parent directory have passed to it, 0 for Malign and 1 for benign \n",
    "            else : \n",
    "                multi_good_processing(new_path,benign)"
   ]
  },
  {
   "cell_type": "markdown",
   "id": "f9b2fa1e",
   "metadata": {},
   "source": [
    "# Experiment V"
   ]
  },
  {
   "cell_type": "markdown",
   "id": "91bcd3cd",
   "metadata": {},
   "source": [
    "### Data processing"
   ]
  },
  {
   "cell_type": "code",
   "execution_count": 32,
   "id": "fb9012f1",
   "metadata": {},
   "outputs": [
    {
     "name": "stderr",
     "output_type": "stream",
     "text": [
      "[=========================================================================] 100%\n"
     ]
    }
   ],
   "source": [
    "filled = 0 \n",
    "TOTAL = 100000\n",
    "Good_X = np.zeros((TOTAL,N_features))\n",
    "Good_Y = np.zeros((TOTAL,4))\n",
    "progressbar_ignite()\n",
    "good_processing(\".\", 1)\n",
    "progressbar_stop()"
   ]
  },
  {
   "cell_type": "code",
   "execution_count": 54,
   "id": "ee7e2392",
   "metadata": {},
   "outputs": [
    {
     "name": "stderr",
     "output_type": "stream",
     "text": [
      "[=========================================================================] 100%\r"
     ]
    }
   ],
   "source": [
    "Evil_filled = 0 \n",
    "TOTAL_EVIL = 1000000\n",
    "Evil_X = np.zeros((TOTAL_EVIL,N_features))\n",
    "Evil_Y = np.zeros((TOTAL_EVIL,4))\n",
    "progressbar_ignite()\n",
    "evil_processing(\".\", 1)\n",
    "progressbar_stop()"
   ]
  },
  {
   "cell_type": "code",
   "execution_count": 55,
   "id": "3bb463cc",
   "metadata": {},
   "outputs": [],
   "source": [
    "Good_X = Good_X[:filled,:]\n",
    "Good_Y = Good_Y[:filled, :]\n",
    "Evil_X = Evil_X[:Evil_filled,:]\n",
    "Evil_Y = Evil_Y[:Evil_filled, :]"
   ]
  },
  {
   "cell_type": "code",
   "execution_count": 59,
   "id": "2c48a990",
   "metadata": {},
   "outputs": [],
   "source": [
    "ss_x = StandardScaler()\n",
    "ss_y = StandardScaler()\n",
    "Good_X = ss_x.fit_transform(Good_X)\n",
    "Evil_X = ss_x.transform(Evil_X)\n",
    "Good_Y = ss_y.fit_transform(Good_Y)\n",
    "Evil_Y = ss_y.transform(Evil_Y)"
   ]
  },
  {
   "cell_type": "markdown",
   "id": "d1568001",
   "metadata": {},
   "source": [
    "### Model"
   ]
  },
  {
   "cell_type": "code",
   "execution_count": 62,
   "id": "13bab009",
   "metadata": {},
   "outputs": [
    {
     "data": {
      "text/plain": [
       "LinearRegression()"
      ]
     },
     "execution_count": 62,
     "metadata": {},
     "output_type": "execute_result"
    }
   ],
   "source": [
    "good_regressor = LinearRegression()\n",
    "good_regressor.fit(Good_X,Good_Y)\n",
    "evil_regressor = LinearRegression()\n",
    "evil_regressor.fit(Evil_X,Evil_Y)"
   ]
  },
  {
   "cell_type": "markdown",
   "id": "3129b850",
   "metadata": {},
   "source": [
    "### Evaluation on test set "
   ]
  },
  {
   "cell_type": "code",
   "execution_count": 63,
   "id": "f2557923",
   "metadata": {},
   "outputs": [],
   "source": [
    "y_good_good = good_regressor.predict(Good_X[:,:])\n",
    "y_evil_good = good_regressor.predict(Evil_X[:,:])\n",
    "y_good_evil = evil_regressor.predict(Good_X[:,:])\n",
    "y_evil_evil = evil_regressor.predict(Evil_X[:,:])"
   ]
  },
  {
   "cell_type": "code",
   "execution_count": 64,
   "id": "12206b5a",
   "metadata": {},
   "outputs": [],
   "source": [
    "good_scores_good = score_metric(\"MAE\",Good_Y, y_good_good)\n",
    "evil_scores_good = score_metric(\"MAE\",Evil_Y, y_evil_good)\n",
    "good_scores_evil = score_metric(\"MAE\",Good_Y, y_good_evil)\n",
    "evil_scores_evil = score_metric(\"MAE\",Evil_Y, y_evil_evil)"
   ]
  },
  {
   "cell_type": "code",
   "execution_count": 65,
   "id": "fca1e554",
   "metadata": {},
   "outputs": [
    {
     "data": {
      "image/png": "[encoded data removed]",
      "text/plain": [
       "<Figure size 576x432 with 1 Axes>"
      ]
     },
     "metadata": {},
     "output_type": "display_data"
    }
   ],
   "source": [
    "import matplotlib as mpl  \n",
    "mpl.rc('font',family='monospace')\n",
    "ax, fig = nice_graph_init(title = \"The MAE between prediction and actual \\nsummary data\", xlabel = \"File number\", ylabel = \"MAE Value\")\n",
    "plt.plot(good_scores_good, color = \"green\", label = \"Good Good\")\n",
    "plt.plot(evil_scores_good, color = \"black\", label = \"Evil Good\")\n",
    "plt.plot(good_scores_evil, color = \"white\", label = \"Good Evil\")\n",
    "plt.plot(evil_scores_evil, color = \"red\", label = \"Evil Evil\")\n",
    "plt.legend(prop={\"size\":12})\n",
    "nice_graph_finish(fig,ax,filename = \"lgFinal.png\")"
   ]
  },
  {
   "cell_type": "markdown",
   "id": "2ea7cbc0",
   "metadata": {},
   "source": [
    "# Experiment VI"
   ]
  },
  {
   "cell_type": "markdown",
   "id": "5dbe7d43",
   "metadata": {},
   "source": [
    "### Data processing"
   ]
  },
  {
   "cell_type": "code",
   "execution_count": 70,
   "id": "c80360e9",
   "metadata": {},
   "outputs": [
    {
     "name": "stderr",
     "output_type": "stream",
     "text": [
      "[=========================================================================] 100%\r"
     ]
    }
   ],
   "source": [
    "N_files = 5\n",
    "orientation = 0\n",
    "rows = N_files\n",
    "cols = N_features+4\n",
    "if orientation != 0 : \n",
    "    rows = cols\n",
    "    cols = N_files\n",
    "holder = np.zeros((rows,cols))\n",
    "TOTAL = 100000\n",
    "multi_Evil_filled = 0\n",
    "multi_Evil_X = np.zeros((TOTAL,rows,cols))\n",
    "multi_Good_filled = 0\n",
    "multi_Good_X = np.zeros((TOTAL,rows,cols))\n",
    "progressbar_ignite()\n",
    "multi_evil_processing(\".\", 1, orientation = orientation)\n",
    "progressbar_stop()\n",
    "holder = np.zeros((rows,cols))\n",
    "progressbar_ignite()\n",
    "multi_good_processing(\".\", 1, orientation = orientation)\n",
    "progressbar_stop()"
   ]
  },
  {
   "cell_type": "code",
   "execution_count": 71,
   "id": "6d77d5fe",
   "metadata": {},
   "outputs": [],
   "source": [
    "multi_Evil_X = multi_Evil_X[:multi_Evil_filled, : ,:]\n",
    "multi_Good_X = multi_Good_X[:multi_Good_filled, : ,:]\n",
    "good_n_evil = np.vstack((multi_Good_X,multi_Evil_X))\n",
    "good_labels = np.full_like(multi_Good_X[:,0,0],1).reshape(-1,1)\n",
    "evil_labels = np.full_like(multi_Evil_X[:,0,0],0).reshape(-1,1)\n",
    "scores = concatinate(good_labels,evil_labels)\n",
    "x_train,x_test,y_train,y_test = train_test_split(good_n_evil,scores,test_size = 0.2)"
   ]
  },
  {
   "cell_type": "code",
   "execution_count": 72,
   "id": "ed61f3b3",
   "metadata": {},
   "outputs": [],
   "source": [
    "evil_flattened = multi_Evil_X.reshape(multi_Evil_filled*N_files,N_features+4)\n",
    "good_flattened = multi_Good_X.reshape(multi_Good_filled*N_files,N_features+4)\n",
    "g00d_labels = np.full_like(good_flattened[:,0],1).reshape(-1,1)\n",
    "evi1_labe1a = np.full_like(evil_flattened[:,0],0).reshape(-1,1)\n",
    "flat_all = np.vstack((good_flattened,evil_flattened))\n",
    "flat_scores = concatinate(g00d_labels,evi1_labe1a)"
   ]
  },
  {
   "cell_type": "code",
   "execution_count": 73,
   "id": "69662668",
   "metadata": {},
   "outputs": [],
   "source": [
    "inputs = min(multi_Evil_filled*N_files,multi_Good_filled*N_files)\n",
    "x_train = flat_all[:inputs, : ]\n",
    "x_test = flat_all[inputs:, : ]\n",
    "y_train = flat_scores[:inputs, : ]\n",
    "y_test = flat_scores[inputs:, : ]"
   ]
  },
  {
   "cell_type": "markdown",
   "id": "bb041cd9",
   "metadata": {},
   "source": [
    "### Model"
   ]
  },
  {
   "cell_type": "code",
   "execution_count": null,
   "id": "bc30dedc",
   "metadata": {},
   "outputs": [],
   "source": [
    "RNN = models.Sequential([\n",
    "                         layers.Conv1D(12, (N_files) , input_shape=(N_features+4,N_files) ),\n",
    "                         layers.LSTM(20, activation = \"relu\", return_sequences=True),\n",
    "                         layers.Dense(30,activation = \"relu\"),\n",
    "                         layers.Conv1D(24,(5), activation = \"relu\"),\n",
    "                         layers.LSTM(20, activation = \"relu\",return_sequences=True),\n",
    "                         layers.Dense(32,activation = \"relu\"),\n",
    "                         layers.Dense(24,activation = \"relu\"),\n",
    "                         layers.LSTM(20, activation = \"relu\",return_sequences=True),\n",
    "                         layers.Dense(12,activation = \"relu\"),\n",
    "                         layers.LSTM(20, activation = \"relu\"),\n",
    "                         layers.Dense(1,activation=\"sigmoid\")\n",
    "                        ])\n",
    "RNN.compile(optimizer=\"adam\",\n",
    "              loss = \"BinaryCrossentropy\",\n",
    "              metrics=['accuracy'])\n",
    "RNN.fit(good_n_evil,scores, batch_size=batch_size, epochs=epoches, verbose=verbos,\n",
    "    validation_data=(x_test,y_test), shuffle=True,\n",
    "    validation_freq=1,\n",
    "    max_queue_size=10, workers=3, use_multiprocessing=True)"
   ]
  },
  {
   "cell_type": "code",
   "execution_count": 74,
   "id": "5f8c0ee1",
   "metadata": {},
   "outputs": [
    {
     "ename": "ValueError",
     "evalue": "The number of classes has to be greater than one; got 1 class",
     "output_type": "error",
     "traceback": [
      "\u001b[0;31m---------------------------------------------------------------------------\u001b[0m",
      "\u001b[0;31mValueError\u001b[0m                                Traceback (most recent call last)",
      "\u001b[0;32m/var/folders/yd/g_9tm1sj1xz1dx89xrcyggtw0000gn/T/ipykernel_58450/3197281240.py\u001b[0m in \u001b[0;36m<module>\u001b[0;34m\u001b[0m\n\u001b[0;32m----> 1\u001b[0;31m \u001b[0mrunning_classical_ML\u001b[0m\u001b[0;34m(\u001b[0m\u001b[0mx_train\u001b[0m\u001b[0;34m,\u001b[0m\u001b[0mx_test\u001b[0m\u001b[0;34m,\u001b[0m\u001b[0my_train\u001b[0m\u001b[0;34m,\u001b[0m\u001b[0my_test\u001b[0m\u001b[0;34m)\u001b[0m\u001b[0;34m\u001b[0m\u001b[0;34m\u001b[0m\u001b[0m\n\u001b[0m",
      "\u001b[0;32m/var/folders/yd/g_9tm1sj1xz1dx89xrcyggtw0000gn/T/ipykernel_58450/1597705685.py\u001b[0m in \u001b[0;36mrunning_classical_ML\u001b[0;34m(x_train, x_test, y_train, y_test)\u001b[0m\n\u001b[1;32m     14\u001b[0m     \u001b[0mscore\u001b[0m \u001b[0;34m=\u001b[0m \u001b[0;36m0\u001b[0m\u001b[0;34m\u001b[0m\u001b[0;34m\u001b[0m\u001b[0m\n\u001b[1;32m     15\u001b[0m     \u001b[0msvm\u001b[0m \u001b[0;34m=\u001b[0m \u001b[0mSVC\u001b[0m\u001b[0;34m(\u001b[0m\u001b[0;34m)\u001b[0m\u001b[0;34m\u001b[0m\u001b[0;34m\u001b[0m\u001b[0m\n\u001b[0;32m---> 16\u001b[0;31m     \u001b[0msvm\u001b[0m\u001b[0;34m.\u001b[0m\u001b[0mfit\u001b[0m\u001b[0;34m(\u001b[0m\u001b[0mx_train\u001b[0m\u001b[0;34m,\u001b[0m\u001b[0my_train\u001b[0m\u001b[0;34m)\u001b[0m\u001b[0;34m\u001b[0m\u001b[0;34m\u001b[0m\u001b[0m\n\u001b[0m\u001b[1;32m     17\u001b[0m     \u001b[0my_pred\u001b[0m \u001b[0;34m=\u001b[0m \u001b[0msvm\u001b[0m\u001b[0;34m.\u001b[0m\u001b[0mpredict\u001b[0m\u001b[0;34m(\u001b[0m\u001b[0mx_test\u001b[0m\u001b[0;34m)\u001b[0m\u001b[0;34m\u001b[0m\u001b[0;34m\u001b[0m\u001b[0m\n\u001b[1;32m     18\u001b[0m     \u001b[0mprint\u001b[0m\u001b[0;34m(\u001b[0m\u001b[0mconfusion_matrix\u001b[0m\u001b[0;34m(\u001b[0m\u001b[0my_pred\u001b[0m\u001b[0;34m,\u001b[0m\u001b[0my_test\u001b[0m\u001b[0;34m)\u001b[0m\u001b[0;34m)\u001b[0m\u001b[0;34m\u001b[0m\u001b[0;34m\u001b[0m\u001b[0m\n",
      "\u001b[0;32m/usr/local/lib/python3.9/site-packages/sklearn/svm/_base.py\u001b[0m in \u001b[0;36mfit\u001b[0;34m(self, X, y, sample_weight)\u001b[0m\n\u001b[1;32m    171\u001b[0m                                        accept_large_sparse=False)\n\u001b[1;32m    172\u001b[0m \u001b[0;34m\u001b[0m\u001b[0m\n\u001b[0;32m--> 173\u001b[0;31m         \u001b[0my\u001b[0m \u001b[0;34m=\u001b[0m \u001b[0mself\u001b[0m\u001b[0;34m.\u001b[0m\u001b[0m_validate_targets\u001b[0m\u001b[0;34m(\u001b[0m\u001b[0my\u001b[0m\u001b[0;34m)\u001b[0m\u001b[0;34m\u001b[0m\u001b[0;34m\u001b[0m\u001b[0m\n\u001b[0m\u001b[1;32m    174\u001b[0m \u001b[0;34m\u001b[0m\u001b[0m\n\u001b[1;32m    175\u001b[0m         sample_weight = np.asarray([]\n",
      "\u001b[0;32m/usr/local/lib/python3.9/site-packages/sklearn/svm/_base.py\u001b[0m in \u001b[0;36m_validate_targets\u001b[0;34m(self, y)\u001b[0m\n\u001b[1;32m    556\u001b[0m                                                   classes=cls, y=y_)\n\u001b[1;32m    557\u001b[0m         \u001b[0;32mif\u001b[0m \u001b[0mlen\u001b[0m\u001b[0;34m(\u001b[0m\u001b[0mcls\u001b[0m\u001b[0;34m)\u001b[0m \u001b[0;34m<\u001b[0m \u001b[0;36m2\u001b[0m\u001b[0;34m:\u001b[0m\u001b[0;34m\u001b[0m\u001b[0;34m\u001b[0m\u001b[0m\n\u001b[0;32m--> 558\u001b[0;31m             raise ValueError(\n\u001b[0m\u001b[1;32m    559\u001b[0m                 \u001b[0;34m\"The number of classes has to be greater than one; got %d\"\u001b[0m\u001b[0;34m\u001b[0m\u001b[0;34m\u001b[0m\u001b[0m\n\u001b[1;32m    560\u001b[0m                 \" class\" % len(cls))\n",
      "\u001b[0;31mValueError\u001b[0m: The number of classes has to be greater than one; got 1 class"
     ]
    }
   ],
   "source": [
    "running_classical_ML(x_train,x_test,y_train,y_test)"
   ]
  },
  {
   "cell_type": "code",
   "execution_count": null,
   "id": "6e3db418",
   "metadata": {},
   "outputs": [],
   "source": []
  }
 ],
 "metadata": {
  "kernelspec": {
   "display_name": "Python 3 (ipykernel)",
   "language": "python",
   "name": "python3"
  },
  "language_info": {
   "codemirror_mode": {
    "name": "ipython",
    "version": 3
   },
   "file_extension": ".py",
   "mimetype": "text/x-python",
   "name": "python",
   "nbconvert_exporter": "python",
   "pygments_lexer": "ipython3",
   "version": "3.9.5"
  }
 },
 "nbformat": 4,
 "nbformat_minor": 5
}
