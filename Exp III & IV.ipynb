{
 "cells": [
  {
   "cell_type": "markdown",
   "id": "94e4ca07",
   "metadata": {},
   "source": [
    "All the imports needed for the running of the script, Updated as the experemnt goes "
   ]
  },
  {
   "cell_type": "code",
   "execution_count": 2,
   "id": "8b14e22a",
   "metadata": {},
   "outputs": [],
   "source": [
    "import pandas as pd \n",
    "import numpy as np \n",
    "import os\n",
    "import re\n",
    "import seaborn as sns\n",
    "import matplotlib.pyplot as plt\n",
    "import warnings\n",
    "import os\n",
    "from datetime import datetime, timedelta\n",
    "from functools import reduce\n",
    "from sklearn.feature_extraction.text import TfidfVectorizer, CountVectorizer\n",
    "warnings.filterwarnings('ignore')\n",
    "import progressbar\n",
    "import tensorflow as ts\n",
    "from sklearn.model_selection import train_test_split\n",
    "from tensorflow.keras import layers,models\n",
    "from sklearn.metrics import confusion_matrix,accuracy_score\n",
    "from sklearn.linear_model import LogisticRegression\n",
    "from random import random"
   ]
  },
  {
   "cell_type": "markdown",
   "id": "3ba1e4c1",
   "metadata": {},
   "source": [
    "Data preprocessing. This converts a timestamp in the format %M:%S%S.%f%f Where \n",
    "- %M is Minutes with no padded zeros \n",
    "- %S is Seconds with zeros padded to the left\n",
    "- %f is Milliseconds with no padded zeros \n",
    "\n",
    "To milliseconds. "
   ]
  },
  {
   "cell_type": "code",
   "execution_count": 3,
   "id": "90d9e0de",
   "metadata": {},
   "outputs": [],
   "source": [
    "def memory_gbts(unit) : \n",
    "    local_unit = 0.0\n",
    "    if unit.endswith(\"K\"):\n",
    "        local_unit = float(unit[:-1])/1e9\n",
    "    elif unit.endswith(\"M\"): \n",
    "        local_unit = float(unit[:-1])/1e6\n",
    "    elif unit.endswith(\"G\") : \n",
    "        local_unit = float(unit[:-1])/1e3\n",
    "    else : \n",
    "        local_unit = float(unit)/1e12\n",
    "    return local_unit"
   ]
  },
  {
   "cell_type": "code",
   "execution_count": 4,
   "id": "2e5a1bb0",
   "metadata": {},
   "outputs": [],
   "source": [
    "def memory_converter(memory) :\n",
    "    memory_over_terabyte = []\n",
    "    for unit in memory :\n",
    "        local_unit = memory_gbts(unit)\n",
    "            #print(unit)\n",
    "        memory_over_terabyte.append(local_unit)\n",
    "    return memory_over_terabyte"
   ]
  },
  {
   "cell_type": "code",
   "execution_count": 5,
   "id": "32fdab78",
   "metadata": {},
   "outputs": [],
   "source": [
    "def time_converter(timestamp):\n",
    "    broken_time = timestamp.split(\".\")\n",
    "    milliseconds = float(\"0.\" + broken_time[-1]) * 1000\n",
    "    borken_farther = broken_time[0].split(\":\")\n",
    "    seconds = int(borken_farther[-1])\n",
    "    minutes = int(borken_farther[0])\n",
    "    total_seconds = seconds + minutes*60\n",
    "    total_milliseconds = milliseconds + total_seconds*1000\n",
    "    return total_milliseconds"
   ]
  },
  {
   "cell_type": "markdown",
   "id": "b6fafc4f",
   "metadata": {},
   "source": [
    "This function extracts the time at which the file was logged from the file name and returns it as a timestamp "
   ]
  },
  {
   "cell_type": "code",
   "execution_count": 6,
   "id": "1498680a",
   "metadata": {},
   "outputs": [],
   "source": [
    "def get_timestamp(filename) : \n",
    "    timestamp = filename[8:-4].replace('_',':')\n",
    "    return timestamp"
   ]
  },
  {
   "cell_type": "markdown",
   "id": "0a3dd0f2",
   "metadata": {},
   "source": [
    "The following cell defines the column names for the read text files for when they are converted to a data frame"
   ]
  },
  {
   "cell_type": "code",
   "execution_count": 7,
   "id": "ad825122",
   "metadata": {},
   "outputs": [],
   "source": [
    "column_names = [\"Process ID\",\"User\",\"PR\",\"NI\",\"VIRT\",\"RES\",\"SHR\",\"S\",\"[%CPU]\",\"[%MEM]\",\"TIME+\",\"Args\",\"Timestamp\",\"Benign\"]"
   ]
  },
  {
   "cell_type": "markdown",
   "id": "0474c057",
   "metadata": {},
   "source": [
    "This function will go through all files in any given directory and count how many are there. This is only used for updating the progressbar and is not nessesary for understanding the training process"
   ]
  },
  {
   "cell_type": "code",
   "execution_count": 8,
   "id": "ed513806",
   "metadata": {},
   "outputs": [],
   "source": [
    "def get_files_count(root,counter = 0):\n",
    "    counter += 1\n",
    "    for root, dirs, files in os.walk(root, topdown=True):\n",
    "        for name in files:\n",
    "            if name.endswith(\".txt\") : \n",
    "                counter += 1\n",
    "        for name in dirs:\n",
    "            new_path = os.path.join(root, name)\n",
    "            counter = get_files_count(new_path,counter)\n",
    "    return counter "
   ]
  },
  {
   "cell_type": "code",
   "execution_count": 9,
   "id": "49957888",
   "metadata": {},
   "outputs": [],
   "source": [
    "file_count = get_files_count(\".\")\n",
    "counter = 0\n",
    "bar = progressbar.ProgressBar(maxval=100, \\\n",
    "widgets=[progressbar.Bar('=', '[', ']'), ' ', progressbar.Percentage()])"
   ]
  },
  {
   "cell_type": "code",
   "execution_count": 10,
   "id": "d8f5f4f6",
   "metadata": {},
   "outputs": [],
   "source": [
    "def progressbar_ignite():\n",
    "    global counter,bar\n",
    "    counter = 0\n",
    "    bar.start()"
   ]
  },
  {
   "cell_type": "code",
   "execution_count": 11,
   "id": "c2ce2236",
   "metadata": {},
   "outputs": [],
   "source": [
    "def progressbar_stop():\n",
    "    global bar\n",
    "    bar.update(100)\n",
    "    bar.finish()"
   ]
  },
  {
   "cell_type": "code",
   "execution_count": 12,
   "id": "f23c01dc",
   "metadata": {},
   "outputs": [],
   "source": [
    "def update_progressbar(counter) : \n",
    "    global file_count,bar\n",
    "    percent_done = counter/float(file_count)\n",
    "    percent = int(percent_done*100)\n",
    "    bar.update(percent)"
   ]
  },
  {
   "cell_type": "markdown",
   "id": "950d176e",
   "metadata": {},
   "source": [
    "Few cells for nicely presented output"
   ]
  },
  {
   "cell_type": "code",
   "execution_count": 13,
   "id": "12ded45f",
   "metadata": {},
   "outputs": [],
   "source": [
    "def nice_graph_init(ylabel = \"process count\", xlabel = \"Probability\", title = r\"Likelyhood of a process being benign\",figsize = (8,6)): \n",
    "    plt.style.use('dark_background')\n",
    "    figure = plt.figure(figsize = figsize)\n",
    "    figure.subplots_adjust(bottom = 0.22)\n",
    "    ax = figure.add_subplot(111)\n",
    "    ax.spines[\"top\"].set_visible(False)\n",
    "    ax.spines[\"right\"].set_visible(False)\n",
    "    ax.set_title(title, fontsize = 16, fontfamily = \"monospace\")\n",
    "    ax.set_ylabel(ylabel, fontsize = 14, fontfamily = \"monospace\")\n",
    "    ax.set_xlabel(xlabel, fontsize = 14, fontfamily = \"monospace\")\n",
    "    ax.minorticks_on()\n",
    "    return ax,figure"
   ]
  },
  {
   "cell_type": "code",
   "execution_count": 14,
   "id": "7a5c4984",
   "metadata": {},
   "outputs": [],
   "source": [
    "def nice_graph_finish(figure,ax,filename = \"plot.png\"):\n",
    "    ax.xaxis.set_tick_params(length = 5, width = 1)\n",
    "    ax.yaxis.set_tick_params(length = 5, width = 1)\n",
    "    plt.savefig(filename, dpi=300, bbox_inches='tight')\n",
    "    plt.show()"
   ]
  },
  {
   "cell_type": "markdown",
   "id": "846da7ee",
   "metadata": {},
   "source": [
    "This cell makes sure the data is in the correct format"
   ]
  },
  {
   "cell_type": "code",
   "execution_count": 15,
   "id": "bdf00ba7",
   "metadata": {},
   "outputs": [],
   "source": [
    "def turn_to_X(df) : \n",
    "    X = df.values\n",
    "    X = np.asarray(X).astype('float32')\n",
    "    return X"
   ]
  },
  {
   "cell_type": "code",
   "execution_count": 16,
   "id": "95a2f4a4",
   "metadata": {},
   "outputs": [],
   "source": [
    "def list_to_array(data):\n",
    "    df = pd.DataFrame(data,columns = column_names)\n",
    "    X = df.drop([\"Process ID\",\"User\",\"PR\",\"NI\",\"S\",\"Args\",\"Timestamp\",\"Benign\"],axis =1,inplace=False)\n",
    "    X = turn_to_X(X)\n",
    "    Y = df[\"Benign\"].values\n",
    "    Y = np.reshape(Y, (len(Y),1))\n",
    "    return X,Y"
   ]
  },
  {
   "cell_type": "code",
   "execution_count": 17,
   "id": "e72f8912",
   "metadata": {},
   "outputs": [],
   "source": [
    "def y_edit(y,N,tracker):\n",
    "    prev_i = 0\n",
    "    itters = 0\n",
    "    ys = np.zeros((y.shape[0] - N*len(tracker),1))\n",
    "    for num in tracker :\n",
    "        ys[prev_i - N*itters : num - N*(itters+1)] = y[prev_i : num - N]\n",
    "        itters += 1\n",
    "        prev_i = num\n",
    "    return ys"
   ]
  },
  {
   "cell_type": "code",
   "execution_count": 18,
   "id": "c0c87e50",
   "metadata": {},
   "outputs": [],
   "source": [
    "def rows_to_cells(rows, N,tracker) : \n",
    "    rows = np.array(rows)\n",
    "    cells = np.zeros((rows.shape[0] - N*len(tracker),N,6))\n",
    "    prev_i = 0\n",
    "    itter = 0\n",
    "    for num in tracker :\n",
    "        for i in range(prev_i,num - N) :\n",
    "            cells[i - N*itter,:,:] = rows[i:i+N,:]\n",
    "        prev_i = num\n",
    "        itter += 1\n",
    "    return cells\n",
    "\n",
    "\n"
   ]
  },
  {
   "cell_type": "code",
   "execution_count": 19,
   "id": "48b4c9c4",
   "metadata": {},
   "outputs": [],
   "source": [
    "def concatinate(full,new) : \n",
    "    return np.concatenate((full,new), axis = 0)"
   ]
  },
  {
   "cell_type": "code",
   "execution_count": 20,
   "id": "b2b2b15d",
   "metadata": {},
   "outputs": [],
   "source": [
    "def read_enhanced(filename,safe_filename,all_data, benign = 1) : \n",
    "    # Reads a text file with columns seperated by tabs and stores it in a data frame object\n",
    "    df = pd.read_csv(filename, delimiter = \"\\t\", skiprows = [0,1,2,3,4,5,-1])\n",
    "    # Stores the data contained in the data frame object in an array \n",
    "    data = df.iloc[:,0].values\n",
    "    i = 0\n",
    "    # Loop through all the data points \n",
    "    for d in data[:-1] :\n",
    "        try :\n",
    "            row = []\n",
    "            # The variable d at this point is a whole line, with some awckward spacing between the different \n",
    "            # variables, so here all spaces are removed by the split method, then are rejoined with a single \n",
    "            # space beteween them by the use of the join method\n",
    "            d = \" \".join(d.split())\n",
    "            # Storing all the data up to the 12th element in row, the 12th and beyond element needs further processing \n",
    "            row = d.split(\" \")[:11]\n",
    "            # Storing all the elements including and beyond the 12th element. They are saved all as a single variable\n",
    "            # this variable is the API caller. \n",
    "            row.append(d.split(\" \")[11:])\n",
    "            # converting the PID (process ID) column to Integer\n",
    "            row[0] = int(row[0])\n",
    "            # Convert the memory information to numarical values \n",
    "            row[4:7] = memory_converter(row[4:7])\n",
    "            row[9] = float(row[9])\n",
    "            row[8] = float(row[8])\n",
    "            # Convert timestamps into millisecond values \n",
    "            row[10] = time_converter(row[10])\n",
    "            # Collect the sampling time from the filename \n",
    "            row.append(get_timestamp(safe_filename))\n",
    "            # Indicate whether this row corrospond to a benign or a melign run \n",
    "            row.append(benign)\n",
    "            # The row is done being processed and is stored\n",
    "            if(np.sum(row[4:7]) > 0) :\n",
    "                all_data.append(row)\n",
    "            i += 1\n",
    "        # For lines which might contain contaminated or corrupt data or data in different format\n",
    "        except ValueError : \n",
    "            #print(safe_filename, \" In the line \" , i)\n",
    "            #print(d)\n",
    "            continue\n",
    "    return all_data"
   ]
  },
  {
   "cell_type": "markdown",
   "id": "0200b868",
   "metadata": {},
   "source": [
    "This function will call [read_enhanced] for each file but then it will slice the data it gets into cells then concatinating them back into one grand list by using the two methods above. "
   ]
  },
  {
   "cell_type": "code",
   "execution_count": 21,
   "id": "863f5015",
   "metadata": {},
   "outputs": [],
   "source": [
    "def CNN_Read(root,benign) :\n",
    "    global tracker,all_data,tracker,counter,global_X,global_Y,N\n",
    "    # Updating the progressbar everytime this function is called, this is a recursive function so it will be called\n",
    "    # Multiple times \n",
    "    update_progressbar(counter)\n",
    "    # Using the walk method which returns the root of the directory we are accessing, the child directories and \n",
    "    # the child files. Those are stored in root, dirs and files respectively\n",
    "    for root, dirs, files in os.walk(root, topdown=True):\n",
    "        # Looping through all the child files \n",
    "        for name in files:\n",
    "            # Checking if they are text files, if so, then we are going to read them and store the values they have\n",
    "            if name.endswith(\".txt\") : \n",
    "                try :\n",
    "                    if(random() > 0.0) : \n",
    "                        file_path = os.path.join(root, name)\n",
    "                        # Reading the file's contents and storing it in the list\n",
    "                        all_data = read_enhanced(file_path,name,all_data,benign=benign)\n",
    "                        tracker.append(len(all_data))\n",
    "                        # We read one more file :) . (for the progressbar) \n",
    "                    counter += 1\n",
    "                except ValueError : \n",
    "                    print(\"The current dimensions of Y global is : \" , global_Y.shape)\n",
    "                    print(\"The current dimensions of Y locaal is : \" , loc_y.shape)\n",
    "        # For each of the child directories we will check         \n",
    "        for name in dirs:\n",
    "            # If the directory name is Benign then all the following directories and files will be Benign files \n",
    "            # So we update the benign variable to 1 in the recursive call \n",
    "            new_path = os.path.join(root, name)\n",
    "            if name == \"Benign\" :\n",
    "                CNN_Read(new_path,1)\n",
    "            # If the directory name is Malign then all the directories we will acess next and files will represent \n",
    "            # Malign data, so the benign variable is updated to 0. \n",
    "            elif name == \"Malign\" :\n",
    "                \n",
    "                CNN_Read(new_path,0)\n",
    "            # If its neither, then this means we are accessing a folder within those previous two, it will contain \n",
    "            # data of the kind its parent directory have passed to it, 0 for Malign and 1 for benign \n",
    "            else : \n",
    "                CNN_Read(new_path,benign)"
   ]
  },
  {
   "cell_type": "markdown",
   "id": "0501ec9b",
   "metadata": {},
   "source": [
    "# Eperiment III "
   ]
  },
  {
   "cell_type": "markdown",
   "id": "b5e2497e",
   "metadata": {},
   "source": [
    "### Data processing "
   ]
  },
  {
   "cell_type": "code",
   "execution_count": 22,
   "id": "42000f54",
   "metadata": {},
   "outputs": [
    {
     "name": "stderr",
     "output_type": "stream",
     "text": [
      "[=========================================================================] 100%\n"
     ]
    }
   ],
   "source": [
    "N = 100 # Number of rows to consider at a time\n",
    "tracker = [] # Keeps track of where files end (At which row)\n",
    "all_data = [] \n",
    "global_X = np.zeros((0,N,6)) # An array that will hold the final input\n",
    "global_Y = np.zeros((0,1)) # An array that will hold the final output\n",
    "progressbar_ignite() \n",
    "CNN_Read(\".\",1) # This will store all the data in all_data list\n",
    "loc_x, loc_y = list_to_array(all_data) # Turning an array into \n",
    "progressbar_stop()"
   ]
  },
  {
   "cell_type": "code",
   "execution_count": 23,
   "id": "1a563c0b",
   "metadata": {},
   "outputs": [],
   "source": [
    "global_X = rows_to_cells(loc_x,N,tracker) # Remove data that don't fit \n",
    "global_Y = y_edit(loc_y,N,tracker) \n",
    "global_X = np.reshape(global_X,(-1,N,6,1))\n",
    "X_train,X_test,Y_train,Y_test = train_test_split(global_X,global_Y, test_size = 0.2, random_state = 0)"
   ]
  },
  {
   "cell_type": "markdown",
   "id": "af59dcb3",
   "metadata": {},
   "source": [
    "### Training hyperparameters "
   ]
  },
  {
   "cell_type": "code",
   "execution_count": 24,
   "id": "424d3c63",
   "metadata": {},
   "outputs": [],
   "source": [
    "epoches = 50\n",
    "batch_size = 4098*8\n",
    "verbos = 1"
   ]
  },
  {
   "cell_type": "markdown",
   "id": "f426f2e5",
   "metadata": {},
   "source": [
    "### Model "
   ]
  },
  {
   "cell_type": "code",
   "execution_count": 38,
   "id": "1be35948",
   "metadata": {},
   "outputs": [
    {
     "name": "stdout",
     "output_type": "stream",
     "text": [
      "Epoch 1/50\n",
      "38/38 [==============================] - 341s 9s/step - loss: 0.2560 - accuracy: 0.5011 - val_loss: 0.2503 - val_accuracy: 0.5037\n",
      "Epoch 2/50\n",
      "38/38 [==============================] - 285s 7s/step - loss: 0.2501 - accuracy: 0.5042 - val_loss: 0.2501 - val_accuracy: 0.5039\n",
      "Epoch 3/50\n",
      "38/38 [==============================] - 280s 7s/step - loss: 0.2503 - accuracy: 0.5036 - val_loss: 0.2507 - val_accuracy: 0.5019\n",
      "Epoch 4/50\n",
      "38/38 [==============================] - 281s 7s/step - loss: 0.2502 - accuracy: 0.5022 - val_loss: 0.2501 - val_accuracy: 0.5023\n",
      "Epoch 5/50\n",
      "38/38 [==============================] - 308s 8s/step - loss: 0.2500 - accuracy: 0.5036 - val_loss: 0.2500 - val_accuracy: 0.5038\n",
      "Epoch 6/50\n",
      "38/38 [==============================] - 297s 8s/step - loss: 0.2500 - accuracy: 0.5040 - val_loss: 0.2500 - val_accuracy: 0.5039\n",
      "Epoch 7/50\n",
      "38/38 [==============================] - 284s 7s/step - loss: 0.2500 - accuracy: 0.5042 - val_loss: 0.2500 - val_accuracy: 0.5039\n",
      "Epoch 8/50\n",
      "38/38 [==============================] - 294s 8s/step - loss: 0.2500 - accuracy: 0.5040 - val_loss: 0.2500 - val_accuracy: 0.5039\n",
      "Epoch 9/50\n",
      "38/38 [==============================] - 295s 8s/step - loss: 0.2502 - accuracy: 0.5035 - val_loss: 0.2516 - val_accuracy: 0.5004\n",
      "Epoch 10/50\n",
      "38/38 [==============================] - 288s 8s/step - loss: 0.2502 - accuracy: 0.5031 - val_loss: 0.2500 - val_accuracy: 0.5036\n",
      "Epoch 11/50\n",
      "38/38 [==============================] - 313s 8s/step - loss: 0.2500 - accuracy: 0.5035 - val_loss: 0.2500 - val_accuracy: 0.5039\n",
      "Epoch 12/50\n",
      "38/38 [==============================] - 325s 9s/step - loss: 0.2500 - accuracy: 0.5042 - val_loss: 0.2500 - val_accuracy: 0.5039\n",
      "Epoch 13/50\n",
      "38/38 [==============================] - 325s 9s/step - loss: 0.2500 - accuracy: 0.5043 - val_loss: 0.2500 - val_accuracy: 0.5039\n",
      "Epoch 14/50\n",
      "38/38 [==============================] - 316s 8s/step - loss: 0.2500 - accuracy: 0.5043 - val_loss: 0.2500 - val_accuracy: 0.5039\n",
      "Epoch 15/50\n",
      "38/38 [==============================] - 281s 7s/step - loss: 0.2500 - accuracy: 0.5039 - val_loss: 0.2500 - val_accuracy: 0.5039\n",
      "Epoch 16/50\n",
      "38/38 [==============================] - 281s 7s/step - loss: 0.2500 - accuracy: 0.5043 - val_loss: 0.2500 - val_accuracy: 0.5039\n",
      "Epoch 17/50\n",
      "38/38 [==============================] - 280s 7s/step - loss: 0.2500 - accuracy: 0.5037 - val_loss: 0.2500 - val_accuracy: 0.5039\n",
      "Epoch 18/50\n",
      "38/38 [==============================] - 282s 7s/step - loss: 0.2500 - accuracy: 0.5043 - val_loss: 0.2500 - val_accuracy: 0.5039\n",
      "Epoch 19/50\n",
      "38/38 [==============================] - 283s 7s/step - loss: 0.2500 - accuracy: 0.5041 - val_loss: 0.2500 - val_accuracy: 0.5039\n",
      "Epoch 20/50\n",
      "25/38 [==================>...........] - ETA: 1:32 - loss: 0.2500 - accuracy: 0.5041"
     ]
    },
    {
     "ename": "KeyboardInterrupt",
     "evalue": "",
     "output_type": "error",
     "traceback": [
      "\u001b[0;31m---------------------------------------------------------------------------\u001b[0m",
      "\u001b[0;31mKeyboardInterrupt\u001b[0m                         Traceback (most recent call last)",
      "\u001b[0;32m/var/folders/yd/g_9tm1sj1xz1dx89xrcyggtw0000gn/T/ipykernel_58005/83214231.py\u001b[0m in \u001b[0;36m<module>\u001b[0;34m\u001b[0m\n\u001b[1;32m     13\u001b[0m               \u001b[0mloss\u001b[0m \u001b[0;34m=\u001b[0m \u001b[0;34m\"MeanSquaredError\"\u001b[0m\u001b[0;34m,\u001b[0m\u001b[0;34m\u001b[0m\u001b[0;34m\u001b[0m\u001b[0m\n\u001b[1;32m     14\u001b[0m               metrics=['accuracy'])\n\u001b[0;32m---> 15\u001b[0;31m CNN.fit(X_train, Y_train, batch_size=batch_size, epochs=epoches, verbose=verbos,\n\u001b[0m\u001b[1;32m     16\u001b[0m     \u001b[0mvalidation_split\u001b[0m\u001b[0;34m=\u001b[0m\u001b[0;36m0.2\u001b[0m\u001b[0;34m,\u001b[0m \u001b[0mshuffle\u001b[0m\u001b[0;34m=\u001b[0m\u001b[0;32mTrue\u001b[0m\u001b[0;34m,\u001b[0m \u001b[0mvalidation_freq\u001b[0m\u001b[0;34m=\u001b[0m\u001b[0;36m1\u001b[0m\u001b[0;34m,\u001b[0m\u001b[0;34m\u001b[0m\u001b[0;34m\u001b[0m\u001b[0m\n\u001b[1;32m     17\u001b[0m     max_queue_size=10, workers=4, use_multiprocessing=True)\n",
      "\u001b[0;32m/usr/local/lib/python3.9/site-packages/tensorflow/python/keras/engine/training.py\u001b[0m in \u001b[0;36mfit\u001b[0;34m(self, x, y, batch_size, epochs, verbose, callbacks, validation_split, validation_data, shuffle, class_weight, sample_weight, initial_epoch, steps_per_epoch, validation_steps, validation_batch_size, validation_freq, max_queue_size, workers, use_multiprocessing)\u001b[0m\n\u001b[1;32m   1181\u001b[0m                 _r=1):\n\u001b[1;32m   1182\u001b[0m               \u001b[0mcallbacks\u001b[0m\u001b[0;34m.\u001b[0m\u001b[0mon_train_batch_begin\u001b[0m\u001b[0;34m(\u001b[0m\u001b[0mstep\u001b[0m\u001b[0;34m)\u001b[0m\u001b[0;34m\u001b[0m\u001b[0;34m\u001b[0m\u001b[0m\n\u001b[0;32m-> 1183\u001b[0;31m               \u001b[0mtmp_logs\u001b[0m \u001b[0;34m=\u001b[0m \u001b[0mself\u001b[0m\u001b[0;34m.\u001b[0m\u001b[0mtrain_function\u001b[0m\u001b[0;34m(\u001b[0m\u001b[0miterator\u001b[0m\u001b[0;34m)\u001b[0m\u001b[0;34m\u001b[0m\u001b[0;34m\u001b[0m\u001b[0m\n\u001b[0m\u001b[1;32m   1184\u001b[0m               \u001b[0;32mif\u001b[0m \u001b[0mdata_handler\u001b[0m\u001b[0;34m.\u001b[0m\u001b[0mshould_sync\u001b[0m\u001b[0;34m:\u001b[0m\u001b[0;34m\u001b[0m\u001b[0;34m\u001b[0m\u001b[0m\n\u001b[1;32m   1185\u001b[0m                 \u001b[0mcontext\u001b[0m\u001b[0;34m.\u001b[0m\u001b[0masync_wait\u001b[0m\u001b[0;34m(\u001b[0m\u001b[0;34m)\u001b[0m\u001b[0;34m\u001b[0m\u001b[0;34m\u001b[0m\u001b[0m\n",
      "\u001b[0;32m/usr/local/lib/python3.9/site-packages/tensorflow/python/eager/def_function.py\u001b[0m in \u001b[0;36m__call__\u001b[0;34m(self, *args, **kwds)\u001b[0m\n\u001b[1;32m    887\u001b[0m \u001b[0;34m\u001b[0m\u001b[0m\n\u001b[1;32m    888\u001b[0m       \u001b[0;32mwith\u001b[0m \u001b[0mOptionalXlaContext\u001b[0m\u001b[0;34m(\u001b[0m\u001b[0mself\u001b[0m\u001b[0;34m.\u001b[0m\u001b[0m_jit_compile\u001b[0m\u001b[0;34m)\u001b[0m\u001b[0;34m:\u001b[0m\u001b[0;34m\u001b[0m\u001b[0;34m\u001b[0m\u001b[0m\n\u001b[0;32m--> 889\u001b[0;31m         \u001b[0mresult\u001b[0m \u001b[0;34m=\u001b[0m \u001b[0mself\u001b[0m\u001b[0;34m.\u001b[0m\u001b[0m_call\u001b[0m\u001b[0;34m(\u001b[0m\u001b[0;34m*\u001b[0m\u001b[0margs\u001b[0m\u001b[0;34m,\u001b[0m \u001b[0;34m**\u001b[0m\u001b[0mkwds\u001b[0m\u001b[0;34m)\u001b[0m\u001b[0;34m\u001b[0m\u001b[0;34m\u001b[0m\u001b[0m\n\u001b[0m\u001b[1;32m    890\u001b[0m \u001b[0;34m\u001b[0m\u001b[0m\n\u001b[1;32m    891\u001b[0m       \u001b[0mnew_tracing_count\u001b[0m \u001b[0;34m=\u001b[0m \u001b[0mself\u001b[0m\u001b[0;34m.\u001b[0m\u001b[0mexperimental_get_tracing_count\u001b[0m\u001b[0;34m(\u001b[0m\u001b[0;34m)\u001b[0m\u001b[0;34m\u001b[0m\u001b[0;34m\u001b[0m\u001b[0m\n",
      "\u001b[0;32m/usr/local/lib/python3.9/site-packages/tensorflow/python/eager/def_function.py\u001b[0m in \u001b[0;36m_call\u001b[0;34m(self, *args, **kwds)\u001b[0m\n\u001b[1;32m    915\u001b[0m       \u001b[0;31m# In this case we have created variables on the first call, so we run the\u001b[0m\u001b[0;34m\u001b[0m\u001b[0;34m\u001b[0m\u001b[0;34m\u001b[0m\u001b[0m\n\u001b[1;32m    916\u001b[0m       \u001b[0;31m# defunned version which is guaranteed to never create variables.\u001b[0m\u001b[0;34m\u001b[0m\u001b[0;34m\u001b[0m\u001b[0;34m\u001b[0m\u001b[0m\n\u001b[0;32m--> 917\u001b[0;31m       \u001b[0;32mreturn\u001b[0m \u001b[0mself\u001b[0m\u001b[0;34m.\u001b[0m\u001b[0m_stateless_fn\u001b[0m\u001b[0;34m(\u001b[0m\u001b[0;34m*\u001b[0m\u001b[0margs\u001b[0m\u001b[0;34m,\u001b[0m \u001b[0;34m**\u001b[0m\u001b[0mkwds\u001b[0m\u001b[0;34m)\u001b[0m  \u001b[0;31m# pylint: disable=not-callable\u001b[0m\u001b[0;34m\u001b[0m\u001b[0;34m\u001b[0m\u001b[0m\n\u001b[0m\u001b[1;32m    918\u001b[0m     \u001b[0;32melif\u001b[0m \u001b[0mself\u001b[0m\u001b[0;34m.\u001b[0m\u001b[0m_stateful_fn\u001b[0m \u001b[0;32mis\u001b[0m \u001b[0;32mnot\u001b[0m \u001b[0;32mNone\u001b[0m\u001b[0;34m:\u001b[0m\u001b[0;34m\u001b[0m\u001b[0;34m\u001b[0m\u001b[0m\n\u001b[1;32m    919\u001b[0m       \u001b[0;31m# Release the lock early so that multiple threads can perform the call\u001b[0m\u001b[0;34m\u001b[0m\u001b[0;34m\u001b[0m\u001b[0;34m\u001b[0m\u001b[0m\n",
      "\u001b[0;32m/usr/local/lib/python3.9/site-packages/tensorflow/python/eager/function.py\u001b[0m in \u001b[0;36m__call__\u001b[0;34m(self, *args, **kwargs)\u001b[0m\n\u001b[1;32m   3021\u001b[0m       (graph_function,\n\u001b[1;32m   3022\u001b[0m        filtered_flat_args) = self._maybe_define_function(args, kwargs)\n\u001b[0;32m-> 3023\u001b[0;31m     return graph_function._call_flat(\n\u001b[0m\u001b[1;32m   3024\u001b[0m         filtered_flat_args, captured_inputs=graph_function.captured_inputs)  # pylint: disable=protected-access\n\u001b[1;32m   3025\u001b[0m \u001b[0;34m\u001b[0m\u001b[0m\n",
      "\u001b[0;32m/usr/local/lib/python3.9/site-packages/tensorflow/python/eager/function.py\u001b[0m in \u001b[0;36m_call_flat\u001b[0;34m(self, args, captured_inputs, cancellation_manager)\u001b[0m\n\u001b[1;32m   1958\u001b[0m         and executing_eagerly):\n\u001b[1;32m   1959\u001b[0m       \u001b[0;31m# No tape is watching; skip to running the function.\u001b[0m\u001b[0;34m\u001b[0m\u001b[0;34m\u001b[0m\u001b[0;34m\u001b[0m\u001b[0m\n\u001b[0;32m-> 1960\u001b[0;31m       return self._build_call_outputs(self._inference_function.call(\n\u001b[0m\u001b[1;32m   1961\u001b[0m           ctx, args, cancellation_manager=cancellation_manager))\n\u001b[1;32m   1962\u001b[0m     forward_backward = self._select_forward_and_backward_functions(\n",
      "\u001b[0;32m/usr/local/lib/python3.9/site-packages/tensorflow/python/eager/function.py\u001b[0m in \u001b[0;36mcall\u001b[0;34m(self, ctx, args, cancellation_manager)\u001b[0m\n\u001b[1;32m    589\u001b[0m       \u001b[0;32mwith\u001b[0m \u001b[0m_InterpolateFunctionError\u001b[0m\u001b[0;34m(\u001b[0m\u001b[0mself\u001b[0m\u001b[0;34m)\u001b[0m\u001b[0;34m:\u001b[0m\u001b[0;34m\u001b[0m\u001b[0;34m\u001b[0m\u001b[0m\n\u001b[1;32m    590\u001b[0m         \u001b[0;32mif\u001b[0m \u001b[0mcancellation_manager\u001b[0m \u001b[0;32mis\u001b[0m \u001b[0;32mNone\u001b[0m\u001b[0;34m:\u001b[0m\u001b[0;34m\u001b[0m\u001b[0;34m\u001b[0m\u001b[0m\n\u001b[0;32m--> 591\u001b[0;31m           outputs = execute.execute(\n\u001b[0m\u001b[1;32m    592\u001b[0m               \u001b[0mstr\u001b[0m\u001b[0;34m(\u001b[0m\u001b[0mself\u001b[0m\u001b[0;34m.\u001b[0m\u001b[0msignature\u001b[0m\u001b[0;34m.\u001b[0m\u001b[0mname\u001b[0m\u001b[0;34m)\u001b[0m\u001b[0;34m,\u001b[0m\u001b[0;34m\u001b[0m\u001b[0;34m\u001b[0m\u001b[0m\n\u001b[1;32m    593\u001b[0m               \u001b[0mnum_outputs\u001b[0m\u001b[0;34m=\u001b[0m\u001b[0mself\u001b[0m\u001b[0;34m.\u001b[0m\u001b[0m_num_outputs\u001b[0m\u001b[0;34m,\u001b[0m\u001b[0;34m\u001b[0m\u001b[0;34m\u001b[0m\u001b[0m\n",
      "\u001b[0;32m/usr/local/lib/python3.9/site-packages/tensorflow/python/eager/execute.py\u001b[0m in \u001b[0;36mquick_execute\u001b[0;34m(op_name, num_outputs, inputs, attrs, ctx, name)\u001b[0m\n\u001b[1;32m     57\u001b[0m   \u001b[0;32mtry\u001b[0m\u001b[0;34m:\u001b[0m\u001b[0;34m\u001b[0m\u001b[0;34m\u001b[0m\u001b[0m\n\u001b[1;32m     58\u001b[0m     \u001b[0mctx\u001b[0m\u001b[0;34m.\u001b[0m\u001b[0mensure_initialized\u001b[0m\u001b[0;34m(\u001b[0m\u001b[0;34m)\u001b[0m\u001b[0;34m\u001b[0m\u001b[0;34m\u001b[0m\u001b[0m\n\u001b[0;32m---> 59\u001b[0;31m     tensors = pywrap_tfe.TFE_Py_Execute(ctx._handle, device_name, op_name,\n\u001b[0m\u001b[1;32m     60\u001b[0m                                         inputs, attrs, num_outputs)\n\u001b[1;32m     61\u001b[0m   \u001b[0;32mexcept\u001b[0m \u001b[0mcore\u001b[0m\u001b[0;34m.\u001b[0m\u001b[0m_NotOkStatusException\u001b[0m \u001b[0;32mas\u001b[0m \u001b[0me\u001b[0m\u001b[0;34m:\u001b[0m\u001b[0;34m\u001b[0m\u001b[0;34m\u001b[0m\u001b[0m\n",
      "\u001b[0;31mKeyboardInterrupt\u001b[0m: "
     ]
    }
   ],
   "source": [
    "CNN = models.Sequential([layers.Conv2D(24,(3,3),activation=\"relu\",input_shape=(N,6,1)),\n",
    "                         layers.Conv2D(16,(4,4),activation=\"relu\"),\n",
    "                         layers.Flatten(),\n",
    "                         layers.Dense(32,activation = \"relu\"),\n",
    "                         layers.Dense(24,activation = \"relu\"),\n",
    "                         layers.Dense(12,activation = \"tanh\"),\n",
    "                         layers.Dense(1,activation=\"sigmoid\")\n",
    "])\n",
    "Adam = ts.keras.optimizers.Adam(\n",
    "    learning_rate=0.01, beta_1=0.9, beta_2=0.999, epsilon=1e-07\n",
    ")\n",
    "CNN.compile(optimizer=Adam,\n",
    "              loss = \"MeanSquaredError\",\n",
    "              metrics=['accuracy'])\n",
    "CNN.fit(X_train, Y_train, batch_size=batch_size, epochs=epoches, verbose=verbos,\n",
    "    validation_split=0.2, shuffle=True, validation_freq=1,\n",
    "    max_queue_size=10, workers=4, use_multiprocessing=True)"
   ]
  },
  {
   "cell_type": "markdown",
   "id": "89fd556d",
   "metadata": {},
   "source": [
    "### Evaluation on test set "
   ]
  },
  {
   "cell_type": "code",
   "execution_count": 39,
   "id": "735ea677",
   "metadata": {},
   "outputs": [
    {
     "data": {
      "image/png": "[encoded data removed]",
      "text/plain": [
       "<Figure size 576x432 with 1 Axes>"
      ]
     },
     "metadata": {},
     "output_type": "display_data"
    }
   ],
   "source": [
    "y_pred = CNN.predict(X_test)\n",
    "ax, fig = nice_graph_init(title = \"Likelihood of a \" + str(N) + \" processes being Benign\")\n",
    "plt.hist(y_pred,bins = 20,color = \"white\")\n",
    "nice_graph_finish(fig,ax,filename = \"CNNFinal.png\")"
   ]
  },
  {
   "cell_type": "markdown",
   "id": "db949f78",
   "metadata": {},
   "source": [
    "# Experiment IV"
   ]
  },
  {
   "cell_type": "markdown",
   "id": "077f8a84",
   "metadata": {},
   "source": [
    "### Data processing"
   ]
  },
  {
   "cell_type": "code",
   "execution_count": 25,
   "id": "38b6d08b",
   "metadata": {},
   "outputs": [],
   "source": [
    "global_X = np.reshape(global_X,(-1,N,6)) # Reshape the already acquired data since LSTM takes a 2D input\n",
    "X_train,X_test,Y_train,Y_test = train_test_split(global_X,global_Y, test_size = 0.2, random_state = 0)"
   ]
  },
  {
   "cell_type": "markdown",
   "id": "94788469",
   "metadata": {},
   "source": [
    "### Training hyperparameters "
   ]
  },
  {
   "cell_type": "code",
   "execution_count": 30,
   "id": "49356dae",
   "metadata": {},
   "outputs": [],
   "source": [
    "epoches = 50\n",
    "batch_size = 4098*8\n",
    "verbos = 1"
   ]
  },
  {
   "cell_type": "markdown",
   "id": "ae8e981b",
   "metadata": {},
   "source": [
    "### Model "
   ]
  },
  {
   "cell_type": "code",
   "execution_count": 31,
   "id": "30b785f2",
   "metadata": {},
   "outputs": [
    {
     "name": "stdout",
     "output_type": "stream",
     "text": [
      "Epoch 1/50\n",
      "151/151 [==============================] - 56031s 373s/step - loss: 0.7195 - accuracy: 0.4993 - val_loss: 0.6998 - val_accuracy: 0.4991\n",
      "Epoch 2/50\n",
      " 47/151 [========>.....................] - ETA: 15:31 - loss: 0.7020 - accuracy: 0.4978"
     ]
    },
    {
     "ename": "KeyboardInterrupt",
     "evalue": "",
     "output_type": "error",
     "traceback": [
      "\u001b[0;31m---------------------------------------------------------------------------\u001b[0m",
      "\u001b[0;31mKeyboardInterrupt\u001b[0m                         Traceback (most recent call last)",
      "\u001b[0;32m/var/folders/yd/g_9tm1sj1xz1dx89xrcyggtw0000gn/T/ipykernel_59834/962996032.py\u001b[0m in \u001b[0;36m<module>\u001b[0;34m\u001b[0m\n\u001b[1;32m     11\u001b[0m               \u001b[0mloss\u001b[0m \u001b[0;34m=\u001b[0m \u001b[0;34m\"BinaryCrossentropy\"\u001b[0m\u001b[0;34m,\u001b[0m\u001b[0;34m\u001b[0m\u001b[0;34m\u001b[0m\u001b[0m\n\u001b[1;32m     12\u001b[0m               metrics=['accuracy'])\n\u001b[0;32m---> 13\u001b[0;31m RNN.fit(X_train, Y_train, batch_size=batch_size, epochs=epoches, verbose=verbos,\n\u001b[0m\u001b[1;32m     14\u001b[0m     \u001b[0mvalidation_split\u001b[0m\u001b[0;34m=\u001b[0m\u001b[0;36m0.2\u001b[0m\u001b[0;34m,\u001b[0m \u001b[0mshuffle\u001b[0m\u001b[0;34m=\u001b[0m\u001b[0;32mTrue\u001b[0m\u001b[0;34m,\u001b[0m \u001b[0mvalidation_freq\u001b[0m\u001b[0;34m=\u001b[0m\u001b[0;36m1\u001b[0m\u001b[0;34m,\u001b[0m\u001b[0;34m\u001b[0m\u001b[0;34m\u001b[0m\u001b[0m\n\u001b[1;32m     15\u001b[0m     max_queue_size=10, workers=4, use_multiprocessing=True)\n",
      "\u001b[0;32m/usr/local/lib/python3.9/site-packages/tensorflow/python/keras/engine/training.py\u001b[0m in \u001b[0;36mfit\u001b[0;34m(self, x, y, batch_size, epochs, verbose, callbacks, validation_split, validation_data, shuffle, class_weight, sample_weight, initial_epoch, steps_per_epoch, validation_steps, validation_batch_size, validation_freq, max_queue_size, workers, use_multiprocessing)\u001b[0m\n\u001b[1;32m   1181\u001b[0m                 _r=1):\n\u001b[1;32m   1182\u001b[0m               \u001b[0mcallbacks\u001b[0m\u001b[0;34m.\u001b[0m\u001b[0mon_train_batch_begin\u001b[0m\u001b[0;34m(\u001b[0m\u001b[0mstep\u001b[0m\u001b[0;34m)\u001b[0m\u001b[0;34m\u001b[0m\u001b[0;34m\u001b[0m\u001b[0m\n\u001b[0;32m-> 1183\u001b[0;31m               \u001b[0mtmp_logs\u001b[0m \u001b[0;34m=\u001b[0m \u001b[0mself\u001b[0m\u001b[0;34m.\u001b[0m\u001b[0mtrain_function\u001b[0m\u001b[0;34m(\u001b[0m\u001b[0miterator\u001b[0m\u001b[0;34m)\u001b[0m\u001b[0;34m\u001b[0m\u001b[0;34m\u001b[0m\u001b[0m\n\u001b[0m\u001b[1;32m   1184\u001b[0m               \u001b[0;32mif\u001b[0m \u001b[0mdata_handler\u001b[0m\u001b[0;34m.\u001b[0m\u001b[0mshould_sync\u001b[0m\u001b[0;34m:\u001b[0m\u001b[0;34m\u001b[0m\u001b[0;34m\u001b[0m\u001b[0m\n\u001b[1;32m   1185\u001b[0m                 \u001b[0mcontext\u001b[0m\u001b[0;34m.\u001b[0m\u001b[0masync_wait\u001b[0m\u001b[0;34m(\u001b[0m\u001b[0;34m)\u001b[0m\u001b[0;34m\u001b[0m\u001b[0;34m\u001b[0m\u001b[0m\n",
      "\u001b[0;32m/usr/local/lib/python3.9/site-packages/tensorflow/python/eager/def_function.py\u001b[0m in \u001b[0;36m__call__\u001b[0;34m(self, *args, **kwds)\u001b[0m\n\u001b[1;32m    887\u001b[0m \u001b[0;34m\u001b[0m\u001b[0m\n\u001b[1;32m    888\u001b[0m       \u001b[0;32mwith\u001b[0m \u001b[0mOptionalXlaContext\u001b[0m\u001b[0;34m(\u001b[0m\u001b[0mself\u001b[0m\u001b[0;34m.\u001b[0m\u001b[0m_jit_compile\u001b[0m\u001b[0;34m)\u001b[0m\u001b[0;34m:\u001b[0m\u001b[0;34m\u001b[0m\u001b[0;34m\u001b[0m\u001b[0m\n\u001b[0;32m--> 889\u001b[0;31m         \u001b[0mresult\u001b[0m \u001b[0;34m=\u001b[0m \u001b[0mself\u001b[0m\u001b[0;34m.\u001b[0m\u001b[0m_call\u001b[0m\u001b[0;34m(\u001b[0m\u001b[0;34m*\u001b[0m\u001b[0margs\u001b[0m\u001b[0;34m,\u001b[0m \u001b[0;34m**\u001b[0m\u001b[0mkwds\u001b[0m\u001b[0;34m)\u001b[0m\u001b[0;34m\u001b[0m\u001b[0;34m\u001b[0m\u001b[0m\n\u001b[0m\u001b[1;32m    890\u001b[0m \u001b[0;34m\u001b[0m\u001b[0m\n\u001b[1;32m    891\u001b[0m       \u001b[0mnew_tracing_count\u001b[0m \u001b[0;34m=\u001b[0m \u001b[0mself\u001b[0m\u001b[0;34m.\u001b[0m\u001b[0mexperimental_get_tracing_count\u001b[0m\u001b[0;34m(\u001b[0m\u001b[0;34m)\u001b[0m\u001b[0;34m\u001b[0m\u001b[0;34m\u001b[0m\u001b[0m\n",
      "\u001b[0;32m/usr/local/lib/python3.9/site-packages/tensorflow/python/eager/def_function.py\u001b[0m in \u001b[0;36m_call\u001b[0;34m(self, *args, **kwds)\u001b[0m\n\u001b[1;32m    915\u001b[0m       \u001b[0;31m# In this case we have created variables on the first call, so we run the\u001b[0m\u001b[0;34m\u001b[0m\u001b[0;34m\u001b[0m\u001b[0;34m\u001b[0m\u001b[0m\n\u001b[1;32m    916\u001b[0m       \u001b[0;31m# defunned version which is guaranteed to never create variables.\u001b[0m\u001b[0;34m\u001b[0m\u001b[0;34m\u001b[0m\u001b[0;34m\u001b[0m\u001b[0m\n\u001b[0;32m--> 917\u001b[0;31m       \u001b[0;32mreturn\u001b[0m \u001b[0mself\u001b[0m\u001b[0;34m.\u001b[0m\u001b[0m_stateless_fn\u001b[0m\u001b[0;34m(\u001b[0m\u001b[0;34m*\u001b[0m\u001b[0margs\u001b[0m\u001b[0;34m,\u001b[0m \u001b[0;34m**\u001b[0m\u001b[0mkwds\u001b[0m\u001b[0;34m)\u001b[0m  \u001b[0;31m# pylint: disable=not-callable\u001b[0m\u001b[0;34m\u001b[0m\u001b[0;34m\u001b[0m\u001b[0m\n\u001b[0m\u001b[1;32m    918\u001b[0m     \u001b[0;32melif\u001b[0m \u001b[0mself\u001b[0m\u001b[0;34m.\u001b[0m\u001b[0m_stateful_fn\u001b[0m \u001b[0;32mis\u001b[0m \u001b[0;32mnot\u001b[0m \u001b[0;32mNone\u001b[0m\u001b[0;34m:\u001b[0m\u001b[0;34m\u001b[0m\u001b[0;34m\u001b[0m\u001b[0m\n\u001b[1;32m    919\u001b[0m       \u001b[0;31m# Release the lock early so that multiple threads can perform the call\u001b[0m\u001b[0;34m\u001b[0m\u001b[0;34m\u001b[0m\u001b[0;34m\u001b[0m\u001b[0m\n",
      "\u001b[0;32m/usr/local/lib/python3.9/site-packages/tensorflow/python/eager/function.py\u001b[0m in \u001b[0;36m__call__\u001b[0;34m(self, *args, **kwargs)\u001b[0m\n\u001b[1;32m   3021\u001b[0m       (graph_function,\n\u001b[1;32m   3022\u001b[0m        filtered_flat_args) = self._maybe_define_function(args, kwargs)\n\u001b[0;32m-> 3023\u001b[0;31m     return graph_function._call_flat(\n\u001b[0m\u001b[1;32m   3024\u001b[0m         filtered_flat_args, captured_inputs=graph_function.captured_inputs)  # pylint: disable=protected-access\n\u001b[1;32m   3025\u001b[0m \u001b[0;34m\u001b[0m\u001b[0m\n",
      "\u001b[0;32m/usr/local/lib/python3.9/site-packages/tensorflow/python/eager/function.py\u001b[0m in \u001b[0;36m_call_flat\u001b[0;34m(self, args, captured_inputs, cancellation_manager)\u001b[0m\n\u001b[1;32m   1958\u001b[0m         and executing_eagerly):\n\u001b[1;32m   1959\u001b[0m       \u001b[0;31m# No tape is watching; skip to running the function.\u001b[0m\u001b[0;34m\u001b[0m\u001b[0;34m\u001b[0m\u001b[0;34m\u001b[0m\u001b[0m\n\u001b[0;32m-> 1960\u001b[0;31m       return self._build_call_outputs(self._inference_function.call(\n\u001b[0m\u001b[1;32m   1961\u001b[0m           ctx, args, cancellation_manager=cancellation_manager))\n\u001b[1;32m   1962\u001b[0m     forward_backward = self._select_forward_and_backward_functions(\n",
      "\u001b[0;32m/usr/local/lib/python3.9/site-packages/tensorflow/python/eager/function.py\u001b[0m in \u001b[0;36mcall\u001b[0;34m(self, ctx, args, cancellation_manager)\u001b[0m\n\u001b[1;32m    589\u001b[0m       \u001b[0;32mwith\u001b[0m \u001b[0m_InterpolateFunctionError\u001b[0m\u001b[0;34m(\u001b[0m\u001b[0mself\u001b[0m\u001b[0;34m)\u001b[0m\u001b[0;34m:\u001b[0m\u001b[0;34m\u001b[0m\u001b[0;34m\u001b[0m\u001b[0m\n\u001b[1;32m    590\u001b[0m         \u001b[0;32mif\u001b[0m \u001b[0mcancellation_manager\u001b[0m \u001b[0;32mis\u001b[0m \u001b[0;32mNone\u001b[0m\u001b[0;34m:\u001b[0m\u001b[0;34m\u001b[0m\u001b[0;34m\u001b[0m\u001b[0m\n\u001b[0;32m--> 591\u001b[0;31m           outputs = execute.execute(\n\u001b[0m\u001b[1;32m    592\u001b[0m               \u001b[0mstr\u001b[0m\u001b[0;34m(\u001b[0m\u001b[0mself\u001b[0m\u001b[0;34m.\u001b[0m\u001b[0msignature\u001b[0m\u001b[0;34m.\u001b[0m\u001b[0mname\u001b[0m\u001b[0;34m)\u001b[0m\u001b[0;34m,\u001b[0m\u001b[0;34m\u001b[0m\u001b[0;34m\u001b[0m\u001b[0m\n\u001b[1;32m    593\u001b[0m               \u001b[0mnum_outputs\u001b[0m\u001b[0;34m=\u001b[0m\u001b[0mself\u001b[0m\u001b[0;34m.\u001b[0m\u001b[0m_num_outputs\u001b[0m\u001b[0;34m,\u001b[0m\u001b[0;34m\u001b[0m\u001b[0;34m\u001b[0m\u001b[0m\n",
      "\u001b[0;32m/usr/local/lib/python3.9/site-packages/tensorflow/python/eager/execute.py\u001b[0m in \u001b[0;36mquick_execute\u001b[0;34m(op_name, num_outputs, inputs, attrs, ctx, name)\u001b[0m\n\u001b[1;32m     57\u001b[0m   \u001b[0;32mtry\u001b[0m\u001b[0;34m:\u001b[0m\u001b[0;34m\u001b[0m\u001b[0;34m\u001b[0m\u001b[0m\n\u001b[1;32m     58\u001b[0m     \u001b[0mctx\u001b[0m\u001b[0;34m.\u001b[0m\u001b[0mensure_initialized\u001b[0m\u001b[0;34m(\u001b[0m\u001b[0;34m)\u001b[0m\u001b[0;34m\u001b[0m\u001b[0;34m\u001b[0m\u001b[0m\n\u001b[0;32m---> 59\u001b[0;31m     tensors = pywrap_tfe.TFE_Py_Execute(ctx._handle, device_name, op_name,\n\u001b[0m\u001b[1;32m     60\u001b[0m                                         inputs, attrs, num_outputs)\n\u001b[1;32m     61\u001b[0m   \u001b[0;32mexcept\u001b[0m \u001b[0mcore\u001b[0m\u001b[0;34m.\u001b[0m\u001b[0m_NotOkStatusException\u001b[0m \u001b[0;32mas\u001b[0m \u001b[0me\u001b[0m\u001b[0;34m:\u001b[0m\u001b[0;34m\u001b[0m\u001b[0;34m\u001b[0m\u001b[0m\n",
      "\u001b[0;31mKeyboardInterrupt\u001b[0m: "
     ]
    }
   ],
   "source": [
    "RNN = models.Sequential([\n",
    "                         layers.Bidirectional(layers.LSTM(20, activation = \"relu\", return_sequences=True),input_shape=(N,6)),\n",
    "                        \n",
    "                         layers.Bidirectional(layers.LSTM(20, activation = \"relu\")),\n",
    "                         layers.Dense(32,activation = \"relu\"),\n",
    "                         layers.Dense(24,activation = \"relu\"),\n",
    "                         layers.Dense(12,activation = \"tanh\"),\n",
    "                         layers.Dense(1,activation=\"sigmoid\")\n",
    "                        ])\n",
    "RNN.compile(optimizer=\"adam\",\n",
    "              loss = \"BinaryCrossentropy\",\n",
    "              metrics=['accuracy'])\n",
    "RNN.fit(X_train, Y_train, batch_size=batch_size, epochs=epoches, verbose=verbos,\n",
    "    validation_split=0.2, shuffle=True, validation_freq=1,\n",
    "    max_queue_size=10, workers=4, use_multiprocessing=True)"
   ]
  },
  {
   "cell_type": "markdown",
   "id": "5abc85f5",
   "metadata": {},
   "source": [
    "### Evaluation on test set "
   ]
  },
  {
   "cell_type": "code",
   "execution_count": 32,
   "id": "3ac14614",
   "metadata": {},
   "outputs": [
    {
     "data": {
      "image/png": "[encoded data removed]",
      "text/plain": [
       "<Figure size 576x432 with 1 Axes>"
      ]
     },
     "metadata": {},
     "output_type": "display_data"
    }
   ],
   "source": [
    "y_pred = RNN.predict(X_test)\n",
    "ax, fig = nice_graph_init(title = \"Likelihood of a \" + str(N) + \" processes being Benign\")\n",
    "plt.hist(y_pred,bins = 20,color = \"white\")\n",
    "nice_graph_finish(fig,ax,filename = \"RNNFinal.png\")"
   ]
  },
  {
   "cell_type": "code",
   "execution_count": null,
   "id": "dda430c5",
   "metadata": {},
   "outputs": [],
   "source": []
  }
 ],
 "metadata": {
  "kernelspec": {
   "display_name": "Python 3 (ipykernel)",
   "language": "python",
   "name": "python3"
  },
  "language_info": {
   "codemirror_mode": {
    "name": "ipython",
    "version": 3
   },
   "file_extension": ".py",
   "mimetype": "text/x-python",
   "name": "python",
   "nbconvert_exporter": "python",
   "pygments_lexer": "ipython3",
   "version": "3.9.5"
  }
 },
 "nbformat": 4,
 "nbformat_minor": 5
}
