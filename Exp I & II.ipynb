{
 "cells": [
  {
   "cell_type": "markdown",
   "id": "6125291e",
   "metadata": {},
   "source": [
    "All the imports needed for the running of the script, Updated as the experemnt goes "
   ]
  },
  {
   "cell_type": "code",
   "execution_count": 20,
   "id": "2ff49f07",
   "metadata": {},
   "outputs": [],
   "source": [
    "import pandas as pd \n",
    "import numpy as np \n",
    "import os\n",
    "import re\n",
    "import seaborn as sns\n",
    "import matplotlib.pyplot as plt\n",
    "import warnings\n",
    "import os\n",
    "from datetime import datetime, timedelta\n",
    "from functools import reduce\n",
    "from sklearn.feature_extraction.text import TfidfVectorizer, CountVectorizer\n",
    "warnings.filterwarnings('ignore')\n",
    "import progressbar\n",
    "import tensorflow as ts\n",
    "from sklearn.model_selection import train_test_split\n",
    "from tensorflow.keras import layers,models\n",
    "from sklearn.metrics import confusion_matrix,accuracy_score\n",
    "from sklearn.linear_model import LogisticRegression\n",
    "from random import random"
   ]
  },
  {
   "cell_type": "markdown",
   "id": "e4fa8d28",
   "metadata": {},
   "source": [
    "Data preprocessing. This converts a timestamp in the format %M:%S%S.%f%f Where \n",
    "- %M is Minutes with no padded zeros \n",
    "- %S is Seconds with zeros padded to the left\n",
    "- %f is Milliseconds with no padded zeros \n",
    "\n",
    "To milliseconds. "
   ]
  },
  {
   "cell_type": "code",
   "execution_count": 4,
   "id": "7fb37cf4",
   "metadata": {},
   "outputs": [],
   "source": [
    "def memory_gbts(unit) : \n",
    "    local_unit = 0.0\n",
    "    if unit.endswith(\"K\"):\n",
    "        local_unit = float(unit[:-1])/1e9\n",
    "    elif unit.endswith(\"M\"): \n",
    "        local_unit = float(unit[:-1])/1e6\n",
    "    elif unit.endswith(\"G\") : \n",
    "        local_unit = float(unit[:-1])/1e3\n",
    "    else : \n",
    "        local_unit = float(unit)/1e12\n",
    "    return local_unit"
   ]
  },
  {
   "cell_type": "code",
   "execution_count": 22,
   "id": "91e45183",
   "metadata": {},
   "outputs": [],
   "source": [
    "def memory_converter(memory) :\n",
    "    memory_over_terabyte = []\n",
    "    for unit in memory :\n",
    "        local_unit = memory_gbts(unit)\n",
    "            #print(unit)\n",
    "        memory_over_terabyte.append(local_unit)\n",
    "    return memory_over_terabyte"
   ]
  },
  {
   "cell_type": "code",
   "execution_count": 5,
   "id": "8fa2ed2a",
   "metadata": {},
   "outputs": [],
   "source": [
    "def time_converter(timestamp):\n",
    "    broken_time = timestamp.split(\".\")\n",
    "    milliseconds = float(\"0.\" + broken_time[-1]) * 1000\n",
    "    borken_farther = broken_time[0].split(\":\")\n",
    "    seconds = int(borken_farther[-1])\n",
    "    minutes = int(borken_farther[0])\n",
    "    total_seconds = seconds + minutes*60\n",
    "    total_milliseconds = milliseconds + total_seconds*1000\n",
    "    return total_milliseconds"
   ]
  },
  {
   "cell_type": "markdown",
   "id": "53e54726",
   "metadata": {},
   "source": [
    "This function extracts the time at which the file was logged from the file name and returns it as a timestamp "
   ]
  },
  {
   "cell_type": "code",
   "execution_count": 6,
   "id": "ee6309fe",
   "metadata": {},
   "outputs": [],
   "source": [
    "def get_timestamp(filename) : \n",
    "    timestamp = filename[8:-4].replace('_',':')\n",
    "    return timestamp"
   ]
  },
  {
   "cell_type": "markdown",
   "id": "0d56ef58",
   "metadata": {},
   "source": [
    "The following cell defines the column names for the read text files for when they are converted to a data frame"
   ]
  },
  {
   "cell_type": "code",
   "execution_count": 7,
   "id": "c8a8e5b4",
   "metadata": {},
   "outputs": [],
   "source": [
    "column_names = [\"Process ID\",\"User\",\"PR\",\"NI\",\"VIRT\",\"RES\",\"SHR\",\"S\",\"[%CPU]\",\"[%MEM]\",\"TIME+\",\"Args\",\"Timestamp\",\"Benign\"]"
   ]
  },
  {
   "cell_type": "markdown",
   "id": "3587db14",
   "metadata": {},
   "source": [
    "This method takes the full path to a file, the file name and a list in which it will store the data, as well as a flag that indicates if this file corrospond to benign or melign run"
   ]
  },
  {
   "cell_type": "code",
   "execution_count": 8,
   "id": "566fb591",
   "metadata": {},
   "outputs": [],
   "source": [
    "def read_file(filename,safe_filename,all_data, benign = 1) :\n",
    "    # Reads a text file with columns seperated by tabs and stores it in a data frame object\n",
    "    df = pd.read_csv(filename, delimiter = \"\\t\", skiprows = [0,1,2,3,4,5,-1])\n",
    "    # Stores the data contained in the data frame object in an array \n",
    "    data = df.iloc[:,0].values\n",
    "    i = 0\n",
    "    # Loop through all the data points \n",
    "    for d in data[:-1] :\n",
    "        try :\n",
    "            row = []\n",
    "            # The variable d at this point is a whole line, with some awckward spacing between the different \n",
    "            # variables, so here all spaces are removed by the split method, then are rejoined with a single \n",
    "            # space beteween them by the use of the join method\n",
    "            d = \" \".join(d.split())\n",
    "            # Storing all the data up to the 12th element in row, the 12th and beyond element needs further processing \n",
    "            row = d.split(\" \")[:11]\n",
    "            # Storing all the elements including and beyond the 12th element. They are saved all as a single variable\n",
    "            # this variable is the API caller. \n",
    "            row.append(d.split(\" \")[11:])\n",
    "            # converting the PID (process ID) column to Integer\n",
    "            row[0] = int(row[0])\n",
    "            # Convert the memory information to numarical values \n",
    "            row[4:7] = memory_converter(row[4:7])\n",
    "            row[9] = float(row[9])\n",
    "            row[8] = float(row[8])\n",
    "            # Convert timestamps into millisecond values \n",
    "            row[10] = time_converter(row[10])\n",
    "            # Collect the sampling time from the filename \n",
    "            row.append(get_timestamp(safe_filename))\n",
    "            # Indicate whether this row corrospond to a benign or a melign run \n",
    "            row.append(benign)\n",
    "            # The row is done being processed and is stored \n",
    "            all_data.append(row)\n",
    "            i += 1\n",
    "        # For lines which might contain contaminated or corrupt data or data in different format\n",
    "        except ValueError : \n",
    "            #print(safe_filename, \" In the line \" , i)\n",
    "            #print(d)\n",
    "            continue\n",
    "    return all_data"
   ]
  },
  {
   "cell_type": "markdown",
   "id": "87110e0e",
   "metadata": {},
   "source": [
    "This function will go through all files in any given directory and count how many are there. This is only used for updating the progressbar and is not nessesary for understanding the training process"
   ]
  },
  {
   "cell_type": "code",
   "execution_count": 9,
   "id": "7215200b",
   "metadata": {},
   "outputs": [],
   "source": [
    "def get_files_count(root,counter = 0):\n",
    "    counter += 1\n",
    "    for root, dirs, files in os.walk(root, topdown=True):\n",
    "        for name in files:\n",
    "            if name.endswith(\".txt\") : \n",
    "                counter += 1\n",
    "        for name in dirs:\n",
    "            new_path = os.path.join(root, name)\n",
    "            counter = get_files_count(new_path,counter)\n",
    "    return counter "
   ]
  },
  {
   "cell_type": "markdown",
   "id": "82a5a85a",
   "metadata": {},
   "source": [
    "Those are variables and functions that are used to keep track of how many files have been run already to update the progress bar as well as other progress bar functionalities, start,update and finish"
   ]
  },
  {
   "cell_type": "code",
   "execution_count": 10,
   "id": "d16bc12a",
   "metadata": {},
   "outputs": [],
   "source": [
    "file_count = get_files_count(\".\")\n",
    "counter = 0\n",
    "bar = progressbar.ProgressBar(maxval=100, \\\n",
    "widgets=[progressbar.Bar('=', '[', ']'), ' ', progressbar.Percentage()])"
   ]
  },
  {
   "cell_type": "code",
   "execution_count": 11,
   "id": "cc174632",
   "metadata": {},
   "outputs": [],
   "source": [
    "def progressbar_ignite():\n",
    "    global counter,bar\n",
    "    counter = 0\n",
    "    bar.start()"
   ]
  },
  {
   "cell_type": "code",
   "execution_count": 12,
   "id": "b0b1bcfd",
   "metadata": {},
   "outputs": [],
   "source": [
    "def progressbar_stop():\n",
    "    global bar\n",
    "    bar.update(100)\n",
    "    bar.finish()"
   ]
  },
  {
   "cell_type": "code",
   "execution_count": 13,
   "id": "0867e62c",
   "metadata": {},
   "outputs": [],
   "source": [
    "def update_progressbar(counter) : \n",
    "    global file_count,bar\n",
    "    percent_done = counter/float(file_count)\n",
    "    percent = int(percent_done*100)\n",
    "    bar.update(percent)"
   ]
  },
  {
   "cell_type": "markdown",
   "id": "b7c6d0e5",
   "metadata": {},
   "source": [
    "This is a function that will make use of the previous [read_file] function to read all files in a given directory and pass on appropriate parameters to [read_file] function. This function will return a list that contains all the rows read from each of the files "
   ]
  },
  {
   "cell_type": "code",
   "execution_count": 14,
   "id": "da3bf3ab",
   "metadata": {},
   "outputs": [],
   "source": [
    "def reading_files(root,benign) :\n",
    "    global counter,all_data\n",
    "    # Updating the progressbar everytime this function is called, this is a recursive function so it will be called\n",
    "    # Multiple times \n",
    "    update_progressbar(counter)\n",
    "    # Using the walk method which returns the root of the directory we are accessing, the child directories and \n",
    "    # the child files. Those are stored in root, dirs and files respectively\n",
    "    for root, dirs, files in os.walk(root, topdown=True):\n",
    "        # Looping through all the child files \n",
    "        for name in files:\n",
    "            # Checking if they are text files, if so, then we are going to read them and store the values they have\n",
    "            if name.endswith(\".txt\") : \n",
    "                \n",
    "                file_path = os.path.join(root, name)\n",
    "                # Reading the file's contents and storing it in the list\n",
    "                all_data = read_file(file_path,name,all_data,benign=benign)\n",
    "                # We read one more file :) . (for the progressbar) \n",
    "                counter += 1\n",
    "        # For each of the child directories we will check         \n",
    "        for name in dirs:\n",
    "            # If the directory name is Benign then all the following directories and files will be Benign files \n",
    "            # So we update the benign variable to 1 in the recursive call \n",
    "            new_path = os.path.join(root, name)\n",
    "            if name == \"Benign\" :\n",
    "                reading_files(new_path,1)\n",
    "            # If the directory name is Malign then all the directories we will acess next and files will represent \n",
    "            # Malign data, so the benign variable is updated to 0. \n",
    "            elif name == \"Malign\" :\n",
    "                reading_files(new_path,0)\n",
    "            # If its neither, then this means we are accessing a folder within those previous two, it will contain \n",
    "            # data of the kind its parent directory have passed to it, 0 for Malign and 1 for benign \n",
    "            else : \n",
    "                reading_files(new_path,benign)"
   ]
  },
  {
   "cell_type": "markdown",
   "id": "d6af997b",
   "metadata": {},
   "source": [
    "Few cells for nicely presented output"
   ]
  },
  {
   "cell_type": "code",
   "execution_count": 15,
   "id": "6ce19d87",
   "metadata": {},
   "outputs": [],
   "source": [
    "def nice_graph_init(ylabel = \"process count\", xlabel = \"Probability\", title = r\"Likelyhood of a process being benign\",figsize = (8,6)): \n",
    "    plt.style.use('dark_background')\n",
    "    figure = plt.figure(figsize = figsize)\n",
    "    figure.subplots_adjust(bottom = 0.22)\n",
    "    ax = figure.add_subplot(111)\n",
    "    ax.spines[\"top\"].set_visible(False)\n",
    "    ax.spines[\"right\"].set_visible(False)\n",
    "    ax.set_title(title, fontsize = 16, fontfamily = \"monospace\")\n",
    "    ax.set_ylabel(ylabel, fontsize = 14, fontfamily = \"monospace\")\n",
    "    ax.set_xlabel(xlabel, fontsize = 14, fontfamily = \"monospace\")\n",
    "    ax.minorticks_on()\n",
    "    return ax,figure"
   ]
  },
  {
   "cell_type": "code",
   "execution_count": 76,
   "id": "751a8552",
   "metadata": {},
   "outputs": [],
   "source": [
    "def nice_graph_finish(figure,ax,filename = \"plotFinal.png\"):\n",
    "    ax.xaxis.set_tick_params(length = 5, width = 1)\n",
    "    ax.yaxis.set_tick_params(length = 5, width = 1)\n",
    "    plt.savefig(filename, dpi=300, bbox_inches='tight')\n",
    "    plt.show()"
   ]
  },
  {
   "cell_type": "markdown",
   "id": "7a0aa651",
   "metadata": {},
   "source": [
    "This cell makes sure the data is in the correct format"
   ]
  },
  {
   "cell_type": "code",
   "execution_count": 17,
   "id": "8cc8a8ad",
   "metadata": {},
   "outputs": [],
   "source": [
    "def turn_to_X(df) :\n",
    "    X = df.values\n",
    "    X = np.asarray(X).astype('float32')\n",
    "    return X"
   ]
  },
  {
   "cell_type": "markdown",
   "id": "16571e9c",
   "metadata": {},
   "source": [
    "Takes one file and plots the probability distribution of the processes is contain. If its a Malign file its distribusion is gonna be plotted in magenta, if its benign it will be plotted in turquoise instead. For the test experiment "
   ]
  },
  {
   "cell_type": "code",
   "execution_count": 74,
   "id": "215b3fb7",
   "metadata": {},
   "outputs": [],
   "source": [
    "def plot_one_file(file_path,safe_filename,benign):\n",
    "    single_file = []\n",
    "    # Gets all the data from a file in an list \n",
    "    single_file = read_file(file_path,safe_filename,single_file,benign)\n",
    "    # Turns the list into a data frame with appropriate column names. \n",
    "    single_file_df = pd.DataFrame(single_file,columns = column_names)\n",
    "    # Gets rid of columns that we have no use of \n",
    "    X_single_file = single_file_df.drop([\"Process ID\",\"User\",\"PR\",\"NI\",\"S\",\"Args\",\"Timestamp\",\"Benign\"],axis =1,inplace=False)\n",
    "    # Changing the input array into appropriate type \n",
    "    X_single_file = turn_to_X(X_single_file)\n",
    "    # Generating the probabilities out of the input array using the already trained DNN \n",
    "    Y_single_file = DNN.predict(X_single_file)\n",
    "    # Ordering the probabilities in ascending order for clearere visualisation. \n",
    "    Y_single_file = np.sort(Y_single_file[:,0])\n",
    "    # Generating an x array of the same dimensions for plotting purposses \n",
    "    x = np.arange(Y_single_file.shape[0])\n",
    "    # Colors for distinguishing the data being plotted \n",
    "    color = [\"red\",\"white\"]\n",
    "    alpha = [0.8,0.2]\n",
    "    # plotting, this function is gonna be called for each of the files, so the plots will stack on top of each other\n",
    "    plt.plot(x,Y_single_file,color = color[benign==1], alpha = alpha[benign==1])"
   ]
  },
  {
   "cell_type": "code",
   "execution_count": 63,
   "id": "3f6db424",
   "metadata": {},
   "outputs": [],
   "source": [
    "def plot_all_files(root,benign) :\n",
    "    global counter\n",
    "    # For more insight on how this function works revise the function reading_files\n",
    "    update_progressbar(counter)\n",
    "    for root, dirs, files in os.walk(root, topdown=True):\n",
    "        for name in files:\n",
    "            if name.endswith(\".txt\") : \n",
    "                file_path = os.path.join(root, name)\n",
    "                if(random() > 0.95) :\n",
    "                    plot_one_file(file_path,name,benign)\n",
    "                counter += 1\n",
    "        for name in dirs:\n",
    "            #print(name)\n",
    "            new_path = os.path.join(root, name)\n",
    "            if name == \"Benign\" :\n",
    "                plot_all_files(new_path,1)\n",
    "            elif name == \"Malign\" :\n",
    "                plot_all_files(new_path,0)\n",
    "            else : \n",
    "                plot_all_files(new_path,benign)  "
   ]
  },
  {
   "cell_type": "markdown",
   "id": "9cd0d26c",
   "metadata": {},
   "source": [
    "# Experiment I"
   ]
  },
  {
   "cell_type": "markdown",
   "id": "08afc4dd",
   "metadata": {},
   "source": [
    "### reading the data "
   ]
  },
  {
   "cell_type": "code",
   "execution_count": 23,
   "id": "033e4061",
   "metadata": {},
   "outputs": [
    {
     "name": "stderr",
     "output_type": "stream",
     "text": [
      "[=========================================================================] 100%\n"
     ]
    }
   ],
   "source": [
    "all_data = []\n",
    "progressbar_ignite()\n",
    "reading_files(os.curdir,1)\n",
    "progressbar_stop()"
   ]
  },
  {
   "cell_type": "code",
   "execution_count": 50,
   "id": "877394f4",
   "metadata": {},
   "outputs": [],
   "source": [
    "formatted_df = pd.DataFrame(all_data,columns = column_names)\n",
    "DNN_Y = formatted_df[\"Benign\"].values\n",
    "DNN_X = formatted_df.drop([\"Process ID\",\"User\",\"PR\",\"NI\",\"S\",\"Args\",\"Timestamp\",\"Benign\"],axis =1,inplace=False)\n",
    "DNN_X = DNN_X.values\n",
    "DNN_X_Train,DNN_X_Test,DNN_Y_Train,DNN_Y_Test = train_test_split(DNN_X,DNN_Y,test_size = 0.2, random_state = 13)"
   ]
  },
  {
   "cell_type": "markdown",
   "id": "e6e506b0",
   "metadata": {},
   "source": [
    "### Training hyperparameters "
   ]
  },
  {
   "cell_type": "code",
   "execution_count": 51,
   "id": "5856bf15",
   "metadata": {},
   "outputs": [],
   "source": [
    "epoches = 50\n",
    "batch_size = 4098*2\n",
    "verbos = 2\n",
    "X = DNN_X_Train\n",
    "Y = DNN_Y_Train.reshape(-1,1)\n",
    "X = np.asarray(X).astype('float32')"
   ]
  },
  {
   "cell_type": "markdown",
   "id": "2ec2d597",
   "metadata": {},
   "source": [
    "### Model "
   ]
  },
  {
   "cell_type": "code",
   "execution_count": 66,
   "id": "a3821df0",
   "metadata": {},
   "outputs": [
    {
     "name": "stdout",
     "output_type": "stream",
     "text": [
      "Epoch 1/50\n",
      "1401/1401 - 19s - loss: 0.3606 - accuracy: 0.5016 - val_loss: 0.3727 - val_accuracy: 0.5081\n",
      "Epoch 2/50\n",
      "1401/1401 - 19s - loss: 0.3546 - accuracy: 0.5022 - val_loss: 0.3081 - val_accuracy: 0.5013\n",
      "Epoch 3/50\n",
      "1401/1401 - 19s - loss: 0.3206 - accuracy: 0.5032 - val_loss: 0.3519 - val_accuracy: 0.4990\n",
      "Epoch 4/50\n",
      "1401/1401 - 18s - loss: 0.3076 - accuracy: 0.5032 - val_loss: 0.2687 - val_accuracy: 0.5081\n",
      "Epoch 5/50\n",
      "1401/1401 - 18s - loss: 0.2687 - accuracy: 0.5049 - val_loss: 0.2509 - val_accuracy: 0.5070\n",
      "Epoch 6/50\n",
      "1401/1401 - 18s - loss: 0.2507 - accuracy: 0.5070 - val_loss: 0.2499 - val_accuracy: 0.5081\n",
      "Epoch 7/50\n",
      "1401/1401 - 18s - loss: 0.2499 - accuracy: 0.5080 - val_loss: 0.2499 - val_accuracy: 0.5081\n",
      "Epoch 8/50\n",
      "1401/1401 - 18s - loss: 0.2499 - accuracy: 0.5080 - val_loss: 0.2499 - val_accuracy: 0.5080\n",
      "Epoch 9/50\n",
      "1401/1401 - 19s - loss: 0.2499 - accuracy: 0.5080 - val_loss: 0.2499 - val_accuracy: 0.5081\n",
      "Epoch 10/50\n",
      "1401/1401 - 18s - loss: 0.2499 - accuracy: 0.5079 - val_loss: 0.2499 - val_accuracy: 0.5080\n",
      "Epoch 11/50\n",
      "1401/1401 - 18s - loss: 0.2499 - accuracy: 0.5079 - val_loss: 0.2499 - val_accuracy: 0.5081\n",
      "Epoch 12/50\n",
      "1401/1401 - 18s - loss: 0.2499 - accuracy: 0.5080 - val_loss: 0.2499 - val_accuracy: 0.5078\n",
      "Epoch 13/50\n",
      "1401/1401 - 18s - loss: 0.2499 - accuracy: 0.5080 - val_loss: 0.2499 - val_accuracy: 0.5079\n",
      "Epoch 14/50\n",
      "1401/1401 - 17s - loss: 0.2499 - accuracy: 0.5080 - val_loss: 0.2499 - val_accuracy: 0.5081\n",
      "Epoch 15/50\n",
      "1401/1401 - 18s - loss: 0.2499 - accuracy: 0.5080 - val_loss: 0.2499 - val_accuracy: 0.5081\n",
      "Epoch 16/50\n",
      "1401/1401 - 18s - loss: 0.2499 - accuracy: 0.5080 - val_loss: 0.2499 - val_accuracy: 0.5081\n",
      "Epoch 17/50\n",
      "1401/1401 - 18s - loss: 0.2499 - accuracy: 0.5080 - val_loss: 0.2499 - val_accuracy: 0.5081\n",
      "Epoch 18/50\n",
      "1401/1401 - 18s - loss: 0.2499 - accuracy: 0.5080 - val_loss: 0.2499 - val_accuracy: 0.5081\n",
      "Epoch 19/50\n",
      "1401/1401 - 18s - loss: 0.2499 - accuracy: 0.5081 - val_loss: 0.2499 - val_accuracy: 0.5081\n",
      "Epoch 20/50\n",
      "1401/1401 - 18s - loss: 0.2499 - accuracy: 0.5081 - val_loss: 0.2499 - val_accuracy: 0.5081\n",
      "Epoch 21/50\n",
      "1401/1401 - 18s - loss: 0.2499 - accuracy: 0.5081 - val_loss: 0.2499 - val_accuracy: 0.5081\n",
      "Epoch 22/50\n",
      "1401/1401 - 17s - loss: 0.2499 - accuracy: 0.5081 - val_loss: 0.2499 - val_accuracy: 0.5081\n",
      "Epoch 23/50\n",
      "1401/1401 - 18s - loss: 0.2499 - accuracy: 0.5081 - val_loss: 0.2499 - val_accuracy: 0.5081\n",
      "Epoch 24/50\n",
      "1401/1401 - 18s - loss: 0.2499 - accuracy: 0.5080 - val_loss: 0.2499 - val_accuracy: 0.5081\n",
      "Epoch 25/50\n",
      "1401/1401 - 17s - loss: 0.2499 - accuracy: 0.5081 - val_loss: 0.2499 - val_accuracy: 0.5081\n",
      "Epoch 26/50\n",
      "1401/1401 - 17s - loss: 0.2499 - accuracy: 0.5081 - val_loss: 0.2499 - val_accuracy: 0.5081\n",
      "Epoch 27/50\n",
      "1401/1401 - 18s - loss: 0.2499 - accuracy: 0.5081 - val_loss: 0.2499 - val_accuracy: 0.5081\n",
      "Epoch 28/50\n",
      "1401/1401 - 18s - loss: 0.2499 - accuracy: 0.5081 - val_loss: 0.2499 - val_accuracy: 0.5081\n",
      "Epoch 29/50\n",
      "1401/1401 - 18s - loss: 0.2499 - accuracy: 0.5081 - val_loss: 0.2499 - val_accuracy: 0.5081\n",
      "Epoch 30/50\n",
      "1401/1401 - 18s - loss: 0.2499 - accuracy: 0.5081 - val_loss: 0.2499 - val_accuracy: 0.5081\n",
      "Epoch 31/50\n",
      "1401/1401 - 18s - loss: 0.2499 - accuracy: 0.5081 - val_loss: 0.2499 - val_accuracy: 0.5081\n",
      "Epoch 32/50\n",
      "1401/1401 - 18s - loss: 0.2499 - accuracy: 0.5081 - val_loss: 0.2499 - val_accuracy: 0.5081\n",
      "Epoch 33/50\n",
      "1401/1401 - 18s - loss: 0.2499 - accuracy: 0.5081 - val_loss: 0.2499 - val_accuracy: 0.5081\n",
      "Epoch 34/50\n",
      "1401/1401 - 18s - loss: 0.2499 - accuracy: 0.5081 - val_loss: 0.2499 - val_accuracy: 0.5081\n",
      "Epoch 35/50\n",
      "1401/1401 - 19s - loss: 0.2499 - accuracy: 0.5081 - val_loss: 0.2499 - val_accuracy: 0.5081\n",
      "Epoch 36/50\n",
      "1401/1401 - 18s - loss: 0.2499 - accuracy: 0.5081 - val_loss: 0.2499 - val_accuracy: 0.5081\n",
      "Epoch 37/50\n",
      "1401/1401 - 19s - loss: 0.2499 - accuracy: 0.5081 - val_loss: 0.2499 - val_accuracy: 0.5081\n",
      "Epoch 38/50\n",
      "1401/1401 - 18s - loss: 0.2499 - accuracy: 0.5081 - val_loss: 0.2499 - val_accuracy: 0.5081\n",
      "Epoch 39/50\n",
      "1401/1401 - 18s - loss: 0.2499 - accuracy: 0.5081 - val_loss: 0.2499 - val_accuracy: 0.5081\n",
      "Epoch 40/50\n",
      "1401/1401 - 17s - loss: 0.2499 - accuracy: 0.5081 - val_loss: 0.2499 - val_accuracy: 0.5081\n",
      "Epoch 41/50\n",
      "1401/1401 - 18s - loss: 0.2499 - accuracy: 0.5081 - val_loss: 0.2499 - val_accuracy: 0.5081\n",
      "Epoch 42/50\n",
      "1401/1401 - 17s - loss: 0.2499 - accuracy: 0.5081 - val_loss: 0.2499 - val_accuracy: 0.5081\n",
      "Epoch 43/50\n",
      "1401/1401 - 17s - loss: 0.2499 - accuracy: 0.5081 - val_loss: 0.2499 - val_accuracy: 0.5081\n",
      "Epoch 44/50\n",
      "1401/1401 - 18s - loss: 0.2499 - accuracy: 0.5081 - val_loss: 0.2499 - val_accuracy: 0.5081\n",
      "Epoch 45/50\n",
      "1401/1401 - 18s - loss: 0.2499 - accuracy: 0.5081 - val_loss: 0.2499 - val_accuracy: 0.5081\n",
      "Epoch 46/50\n",
      "1401/1401 - 17s - loss: 0.2499 - accuracy: 0.5081 - val_loss: 0.2499 - val_accuracy: 0.5081\n",
      "Epoch 47/50\n",
      "1401/1401 - 18s - loss: 0.2499 - accuracy: 0.5081 - val_loss: 0.2499 - val_accuracy: 0.5081\n",
      "Epoch 48/50\n",
      "1401/1401 - 18s - loss: 0.2499 - accuracy: 0.5081 - val_loss: 0.2499 - val_accuracy: 0.5081\n",
      "Epoch 49/50\n",
      "1401/1401 - 18s - loss: 0.2499 - accuracy: 0.5081 - val_loss: 0.2499 - val_accuracy: 0.5081\n",
      "Epoch 50/50\n",
      "1401/1401 - 18s - loss: 0.2499 - accuracy: 0.5081 - val_loss: 0.2499 - val_accuracy: 0.5081\n"
     ]
    },
    {
     "data": {
      "text/plain": [
       "<tensorflow.python.keras.callbacks.History at 0x4ef2c0e50>"
      ]
     },
     "execution_count": 66,
     "metadata": {},
     "output_type": "execute_result"
    }
   ],
   "source": [
    "DNN = models.Sequential([layers.Dense(128,activation=\"relu\",input_shape=(6,)),\n",
    "                         layers.Dense(64,activation=\"relu\"),\n",
    "                         layers.Dense(32,activation=\"relu\"),\n",
    "                         layers.Dense(16,activation=\"relu\"),\n",
    "                         layers.Dense(1,activation=\"sigmoid\")\n",
    "])\n",
    "DNN.compile(optimizer = \"Adam\" , loss = \"MeanSquaredError\", metrics = \"accuracy\")\n",
    "DNN.fit(\n",
    "    x=X, y=Y, batch_size=batch_size, epochs=epoches, verbose=verbos,\n",
    "    validation_split=0.2\n",
    ")"
   ]
  },
  {
   "cell_type": "markdown",
   "id": "24061b0e",
   "metadata": {},
   "source": [
    "### Evaluation on test set "
   ]
  },
  {
   "cell_type": "code",
   "execution_count": 67,
   "id": "15523ffd",
   "metadata": {},
   "outputs": [
    {
     "data": {
      "image/png": "[encoded data removed]",
      "text/plain": [
       "<Figure size 576x432 with 1 Axes>"
      ]
     },
     "metadata": {},
     "output_type": "display_data"
    }
   ],
   "source": [
    "DNN_X_Test = np.asarray(DNN_X_Test).astype('float32')\n",
    "DNN_Y_Test = DNN_Y_Test.reshape(-1,1)\n",
    "Y_PRED = DNN.predict(DNN_X_Test)\n",
    "ax, fig = nice_graph_init()\n",
    "plt.hist(Y_PRED,bins = 20,color = \"white\")\n",
    "nice_graph_finish(fig,ax)\n"
   ]
  },
  {
   "cell_type": "code",
   "execution_count": 69,
   "id": "89933432",
   "metadata": {},
   "outputs": [
    {
     "name": "stdout",
     "output_type": "stream",
     "text": [
      "[[1167628 1197913]\n",
      " [ 597828  622838]]\n"
     ]
    }
   ],
   "source": [
    "Y_pred = np.where(Y_PRED > 0.508, 1, 0)\n",
    "cm = confusion_matrix(Y_pred,DNN_Y_Test)\n",
    "print(cm)\n"
   ]
  },
  {
   "cell_type": "markdown",
   "id": "3d3738e0",
   "metadata": {},
   "source": [
    "# Eperiment II"
   ]
  },
  {
   "cell_type": "markdown",
   "id": "f6034421",
   "metadata": {},
   "source": [
    "### Reading the data "
   ]
  },
  {
   "cell_type": "code",
   "execution_count": 70,
   "id": "da8dae57",
   "metadata": {},
   "outputs": [],
   "source": [
    "path = os.path.join(\"Benign\",\"\")\n",
    "path = os.path.join(path,\"10minidle/top_logs\")\n",
    "all_files = os.listdir(path)"
   ]
  },
  {
   "cell_type": "code",
   "execution_count": 71,
   "id": "b54f8e28",
   "metadata": {},
   "outputs": [],
   "source": [
    "single_file = []\n",
    "full_path = os.path.join(path,all_files[0])\n",
    "single_file = read_file(full_path,all_files[0],single_file,1)\n",
    "single_file_df = pd.DataFrame(single_file,columns = column_names)\n",
    "X_single_file = single_file_df.drop([\"Process ID\",\"User\",\"PR\",\"NI\",\"S\",\"Args\",\"Timestamp\",\"Benign\"],axis =1,inplace=False)\n",
    "X_single_file = turn_to_X(X_single_file)\n",
    "Y_single_file = DNN.predict(X_single_file)"
   ]
  },
  {
   "cell_type": "markdown",
   "id": "990879a3",
   "metadata": {},
   "source": [
    "### Visualise for a single file (Illustration)"
   ]
  },
  {
   "cell_type": "code",
   "execution_count": 72,
   "id": "f6b6098c",
   "metadata": {},
   "outputs": [
    {
     "data": {
      "image/png": "[encoded data removed]",
      "text/plain": [
       "<Figure size 576x432 with 1 Axes>"
      ]
     },
     "metadata": {},
     "output_type": "display_data"
    }
   ],
   "source": [
    "Y_single_file = np.sort(Y_single_file[:,0])\n",
    "ax, fig = nice_graph_init(xlabel = \"Process order in ascending order\" , ylabel = \"Likelihood of being normal\",\n",
    "                          title = \"The distrinution of likelihoods for a \\n process to be benign\")\n",
    "plt.plot(Y_single_file,color = \"white\")\n",
    "nice_graph_finish(fig,ax,filename = \"expII.png\")"
   ]
  },
  {
   "cell_type": "markdown",
   "id": "d9ce21da",
   "metadata": {},
   "source": [
    "### Visualising for all files (Will take a while) "
   ]
  },
  {
   "cell_type": "code",
   "execution_count": 75,
   "id": "b5ea68bc",
   "metadata": {},
   "outputs": [
    {
     "name": "stderr",
     "output_type": "stream",
     "text": [
      "[======================================================================== ]  99%\r"
     ]
    },
    {
     "data": {
      "image/png": "[encoded data removed]",
      "text/plain": [
       "<Figure size 576x432 with 1 Axes>"
      ]
     },
     "metadata": {},
     "output_type": "display_data"
    },
    {
     "name": "stderr",
     "output_type": "stream",
     "text": [
      "[=========================================================================] 100%\r"
     ]
    }
   ],
   "source": [
    "progressbar_ignite()\n",
    "ax, fig = nice_graph_init(xlabel = \"Process order in ascending order\" , ylabel = \"Likelihood of being normal\",\n",
    "                          title = \"The distrinution of likelihoods for a \\n process to be benign\")\n",
    "plot_all_files(\".\",1)\n",
    "nice_graph_finish(fig,ax,filename = \"expIIResultsFinal.png\")\n",
    "progressbar_stop()"
   ]
  },
  {
   "cell_type": "markdown",
   "id": "c27aa53a",
   "metadata": {},
   "source": [
    "# Both Experiments Done"
   ]
  }
 ],
 "metadata": {
  "kernelspec": {
   "display_name": "Python 3 (ipykernel)",
   "language": "python",
   "name": "python3"
  },
  "language_info": {
   "codemirror_mode": {
    "name": "ipython",
    "version": 3
   },
   "file_extension": ".py",
   "mimetype": "text/x-python",
   "name": "python",
   "nbconvert_exporter": "python",
   "pygments_lexer": "ipython3",
   "version": "3.9.5"
  }
 },
 "nbformat": 4,
 "nbformat_minor": 5
}
